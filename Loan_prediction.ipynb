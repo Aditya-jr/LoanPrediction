{
 "cells": [
  {
   "cell_type": "code",
   "execution_count": 1,
   "id": "e296f79f",
   "metadata": {},
   "outputs": [],
   "source": [
    "import pandas as pd\n",
    "import matplotlib.pyplot as plt\n",
    "import numpy as np\n",
    "import seaborn as sns\n",
    "import matplotlib\n",
    "%matplotlib inline\n",
    "import warnings\n",
    "warnings.filterwarnings('ignore')"
   ]
  },
  {
   "cell_type": "code",
   "execution_count": 2,
   "id": "b19e2b4d",
   "metadata": {},
   "outputs": [],
   "source": [
    "# train data\n",
    "train = pd.read_csv('train_ctrUa4K.csv')"
   ]
  },
  {
   "cell_type": "code",
   "execution_count": 3,
   "id": "e1a96a7b",
   "metadata": {},
   "outputs": [
    {
     "data": {
      "text/html": [
       "<div>\n",
       "<style scoped>\n",
       "    .dataframe tbody tr th:only-of-type {\n",
       "        vertical-align: middle;\n",
       "    }\n",
       "\n",
       "    .dataframe tbody tr th {\n",
       "        vertical-align: top;\n",
       "    }\n",
       "\n",
       "    .dataframe thead th {\n",
       "        text-align: right;\n",
       "    }\n",
       "</style>\n",
       "<table border=\"1\" class=\"dataframe\">\n",
       "  <thead>\n",
       "    <tr style=\"text-align: right;\">\n",
       "      <th></th>\n",
       "      <th>Loan_ID</th>\n",
       "      <th>Gender</th>\n",
       "      <th>Married</th>\n",
       "      <th>Dependents</th>\n",
       "      <th>Education</th>\n",
       "      <th>Self_Employed</th>\n",
       "      <th>ApplicantIncome</th>\n",
       "      <th>CoapplicantIncome</th>\n",
       "      <th>LoanAmount</th>\n",
       "      <th>Loan_Amount_Term</th>\n",
       "      <th>Credit_History</th>\n",
       "      <th>Property_Area</th>\n",
       "      <th>Loan_Status</th>\n",
       "    </tr>\n",
       "  </thead>\n",
       "  <tbody>\n",
       "    <tr>\n",
       "      <th>0</th>\n",
       "      <td>LP001002</td>\n",
       "      <td>Male</td>\n",
       "      <td>No</td>\n",
       "      <td>0</td>\n",
       "      <td>Graduate</td>\n",
       "      <td>No</td>\n",
       "      <td>5849</td>\n",
       "      <td>0.0</td>\n",
       "      <td>NaN</td>\n",
       "      <td>360.0</td>\n",
       "      <td>1.0</td>\n",
       "      <td>Urban</td>\n",
       "      <td>Y</td>\n",
       "    </tr>\n",
       "    <tr>\n",
       "      <th>1</th>\n",
       "      <td>LP001003</td>\n",
       "      <td>Male</td>\n",
       "      <td>Yes</td>\n",
       "      <td>1</td>\n",
       "      <td>Graduate</td>\n",
       "      <td>No</td>\n",
       "      <td>4583</td>\n",
       "      <td>1508.0</td>\n",
       "      <td>128.0</td>\n",
       "      <td>360.0</td>\n",
       "      <td>1.0</td>\n",
       "      <td>Rural</td>\n",
       "      <td>N</td>\n",
       "    </tr>\n",
       "    <tr>\n",
       "      <th>2</th>\n",
       "      <td>LP001005</td>\n",
       "      <td>Male</td>\n",
       "      <td>Yes</td>\n",
       "      <td>0</td>\n",
       "      <td>Graduate</td>\n",
       "      <td>Yes</td>\n",
       "      <td>3000</td>\n",
       "      <td>0.0</td>\n",
       "      <td>66.0</td>\n",
       "      <td>360.0</td>\n",
       "      <td>1.0</td>\n",
       "      <td>Urban</td>\n",
       "      <td>Y</td>\n",
       "    </tr>\n",
       "    <tr>\n",
       "      <th>3</th>\n",
       "      <td>LP001006</td>\n",
       "      <td>Male</td>\n",
       "      <td>Yes</td>\n",
       "      <td>0</td>\n",
       "      <td>Not Graduate</td>\n",
       "      <td>No</td>\n",
       "      <td>2583</td>\n",
       "      <td>2358.0</td>\n",
       "      <td>120.0</td>\n",
       "      <td>360.0</td>\n",
       "      <td>1.0</td>\n",
       "      <td>Urban</td>\n",
       "      <td>Y</td>\n",
       "    </tr>\n",
       "    <tr>\n",
       "      <th>4</th>\n",
       "      <td>LP001008</td>\n",
       "      <td>Male</td>\n",
       "      <td>No</td>\n",
       "      <td>0</td>\n",
       "      <td>Graduate</td>\n",
       "      <td>No</td>\n",
       "      <td>6000</td>\n",
       "      <td>0.0</td>\n",
       "      <td>141.0</td>\n",
       "      <td>360.0</td>\n",
       "      <td>1.0</td>\n",
       "      <td>Urban</td>\n",
       "      <td>Y</td>\n",
       "    </tr>\n",
       "  </tbody>\n",
       "</table>\n",
       "</div>"
      ],
      "text/plain": [
       "    Loan_ID Gender Married Dependents     Education Self_Employed  \\\n",
       "0  LP001002   Male      No          0      Graduate            No   \n",
       "1  LP001003   Male     Yes          1      Graduate            No   \n",
       "2  LP001005   Male     Yes          0      Graduate           Yes   \n",
       "3  LP001006   Male     Yes          0  Not Graduate            No   \n",
       "4  LP001008   Male      No          0      Graduate            No   \n",
       "\n",
       "   ApplicantIncome  CoapplicantIncome  LoanAmount  Loan_Amount_Term  \\\n",
       "0             5849                0.0         NaN             360.0   \n",
       "1             4583             1508.0       128.0             360.0   \n",
       "2             3000                0.0        66.0             360.0   \n",
       "3             2583             2358.0       120.0             360.0   \n",
       "4             6000                0.0       141.0             360.0   \n",
       "\n",
       "   Credit_History Property_Area Loan_Status  \n",
       "0             1.0         Urban           Y  \n",
       "1             1.0         Rural           N  \n",
       "2             1.0         Urban           Y  \n",
       "3             1.0         Urban           Y  \n",
       "4             1.0         Urban           Y  "
      ]
     },
     "execution_count": 3,
     "metadata": {},
     "output_type": "execute_result"
    }
   ],
   "source": [
    "train.head()"
   ]
  },
  {
   "cell_type": "code",
   "execution_count": 4,
   "id": "8833ed1c",
   "metadata": {},
   "outputs": [],
   "source": [
    "# test data\n",
    "test = pd.read_csv('test_lAUu6dG.csv')"
   ]
  },
  {
   "cell_type": "code",
   "execution_count": 5,
   "id": "b16fdee8",
   "metadata": {},
   "outputs": [
    {
     "data": {
      "text/html": [
       "<div>\n",
       "<style scoped>\n",
       "    .dataframe tbody tr th:only-of-type {\n",
       "        vertical-align: middle;\n",
       "    }\n",
       "\n",
       "    .dataframe tbody tr th {\n",
       "        vertical-align: top;\n",
       "    }\n",
       "\n",
       "    .dataframe thead th {\n",
       "        text-align: right;\n",
       "    }\n",
       "</style>\n",
       "<table border=\"1\" class=\"dataframe\">\n",
       "  <thead>\n",
       "    <tr style=\"text-align: right;\">\n",
       "      <th></th>\n",
       "      <th>Loan_ID</th>\n",
       "      <th>Gender</th>\n",
       "      <th>Married</th>\n",
       "      <th>Dependents</th>\n",
       "      <th>Education</th>\n",
       "      <th>Self_Employed</th>\n",
       "      <th>ApplicantIncome</th>\n",
       "      <th>CoapplicantIncome</th>\n",
       "      <th>LoanAmount</th>\n",
       "      <th>Loan_Amount_Term</th>\n",
       "      <th>Credit_History</th>\n",
       "      <th>Property_Area</th>\n",
       "    </tr>\n",
       "  </thead>\n",
       "  <tbody>\n",
       "    <tr>\n",
       "      <th>0</th>\n",
       "      <td>LP001015</td>\n",
       "      <td>Male</td>\n",
       "      <td>Yes</td>\n",
       "      <td>0</td>\n",
       "      <td>Graduate</td>\n",
       "      <td>No</td>\n",
       "      <td>5720</td>\n",
       "      <td>0</td>\n",
       "      <td>110.0</td>\n",
       "      <td>360.0</td>\n",
       "      <td>1.0</td>\n",
       "      <td>Urban</td>\n",
       "    </tr>\n",
       "    <tr>\n",
       "      <th>1</th>\n",
       "      <td>LP001022</td>\n",
       "      <td>Male</td>\n",
       "      <td>Yes</td>\n",
       "      <td>1</td>\n",
       "      <td>Graduate</td>\n",
       "      <td>No</td>\n",
       "      <td>3076</td>\n",
       "      <td>1500</td>\n",
       "      <td>126.0</td>\n",
       "      <td>360.0</td>\n",
       "      <td>1.0</td>\n",
       "      <td>Urban</td>\n",
       "    </tr>\n",
       "    <tr>\n",
       "      <th>2</th>\n",
       "      <td>LP001031</td>\n",
       "      <td>Male</td>\n",
       "      <td>Yes</td>\n",
       "      <td>2</td>\n",
       "      <td>Graduate</td>\n",
       "      <td>No</td>\n",
       "      <td>5000</td>\n",
       "      <td>1800</td>\n",
       "      <td>208.0</td>\n",
       "      <td>360.0</td>\n",
       "      <td>1.0</td>\n",
       "      <td>Urban</td>\n",
       "    </tr>\n",
       "    <tr>\n",
       "      <th>3</th>\n",
       "      <td>LP001035</td>\n",
       "      <td>Male</td>\n",
       "      <td>Yes</td>\n",
       "      <td>2</td>\n",
       "      <td>Graduate</td>\n",
       "      <td>No</td>\n",
       "      <td>2340</td>\n",
       "      <td>2546</td>\n",
       "      <td>100.0</td>\n",
       "      <td>360.0</td>\n",
       "      <td>NaN</td>\n",
       "      <td>Urban</td>\n",
       "    </tr>\n",
       "    <tr>\n",
       "      <th>4</th>\n",
       "      <td>LP001051</td>\n",
       "      <td>Male</td>\n",
       "      <td>No</td>\n",
       "      <td>0</td>\n",
       "      <td>Not Graduate</td>\n",
       "      <td>No</td>\n",
       "      <td>3276</td>\n",
       "      <td>0</td>\n",
       "      <td>78.0</td>\n",
       "      <td>360.0</td>\n",
       "      <td>1.0</td>\n",
       "      <td>Urban</td>\n",
       "    </tr>\n",
       "    <tr>\n",
       "      <th>...</th>\n",
       "      <td>...</td>\n",
       "      <td>...</td>\n",
       "      <td>...</td>\n",
       "      <td>...</td>\n",
       "      <td>...</td>\n",
       "      <td>...</td>\n",
       "      <td>...</td>\n",
       "      <td>...</td>\n",
       "      <td>...</td>\n",
       "      <td>...</td>\n",
       "      <td>...</td>\n",
       "      <td>...</td>\n",
       "    </tr>\n",
       "    <tr>\n",
       "      <th>362</th>\n",
       "      <td>LP002971</td>\n",
       "      <td>Male</td>\n",
       "      <td>Yes</td>\n",
       "      <td>3+</td>\n",
       "      <td>Not Graduate</td>\n",
       "      <td>Yes</td>\n",
       "      <td>4009</td>\n",
       "      <td>1777</td>\n",
       "      <td>113.0</td>\n",
       "      <td>360.0</td>\n",
       "      <td>1.0</td>\n",
       "      <td>Urban</td>\n",
       "    </tr>\n",
       "    <tr>\n",
       "      <th>363</th>\n",
       "      <td>LP002975</td>\n",
       "      <td>Male</td>\n",
       "      <td>Yes</td>\n",
       "      <td>0</td>\n",
       "      <td>Graduate</td>\n",
       "      <td>No</td>\n",
       "      <td>4158</td>\n",
       "      <td>709</td>\n",
       "      <td>115.0</td>\n",
       "      <td>360.0</td>\n",
       "      <td>1.0</td>\n",
       "      <td>Urban</td>\n",
       "    </tr>\n",
       "    <tr>\n",
       "      <th>364</th>\n",
       "      <td>LP002980</td>\n",
       "      <td>Male</td>\n",
       "      <td>No</td>\n",
       "      <td>0</td>\n",
       "      <td>Graduate</td>\n",
       "      <td>No</td>\n",
       "      <td>3250</td>\n",
       "      <td>1993</td>\n",
       "      <td>126.0</td>\n",
       "      <td>360.0</td>\n",
       "      <td>NaN</td>\n",
       "      <td>Semiurban</td>\n",
       "    </tr>\n",
       "    <tr>\n",
       "      <th>365</th>\n",
       "      <td>LP002986</td>\n",
       "      <td>Male</td>\n",
       "      <td>Yes</td>\n",
       "      <td>0</td>\n",
       "      <td>Graduate</td>\n",
       "      <td>No</td>\n",
       "      <td>5000</td>\n",
       "      <td>2393</td>\n",
       "      <td>158.0</td>\n",
       "      <td>360.0</td>\n",
       "      <td>1.0</td>\n",
       "      <td>Rural</td>\n",
       "    </tr>\n",
       "    <tr>\n",
       "      <th>366</th>\n",
       "      <td>LP002989</td>\n",
       "      <td>Male</td>\n",
       "      <td>No</td>\n",
       "      <td>0</td>\n",
       "      <td>Graduate</td>\n",
       "      <td>Yes</td>\n",
       "      <td>9200</td>\n",
       "      <td>0</td>\n",
       "      <td>98.0</td>\n",
       "      <td>180.0</td>\n",
       "      <td>1.0</td>\n",
       "      <td>Rural</td>\n",
       "    </tr>\n",
       "  </tbody>\n",
       "</table>\n",
       "<p>367 rows × 12 columns</p>\n",
       "</div>"
      ],
      "text/plain": [
       "      Loan_ID Gender Married Dependents     Education Self_Employed  \\\n",
       "0    LP001015   Male     Yes          0      Graduate            No   \n",
       "1    LP001022   Male     Yes          1      Graduate            No   \n",
       "2    LP001031   Male     Yes          2      Graduate            No   \n",
       "3    LP001035   Male     Yes          2      Graduate            No   \n",
       "4    LP001051   Male      No          0  Not Graduate            No   \n",
       "..        ...    ...     ...        ...           ...           ...   \n",
       "362  LP002971   Male     Yes         3+  Not Graduate           Yes   \n",
       "363  LP002975   Male     Yes          0      Graduate            No   \n",
       "364  LP002980   Male      No          0      Graduate            No   \n",
       "365  LP002986   Male     Yes          0      Graduate            No   \n",
       "366  LP002989   Male      No          0      Graduate           Yes   \n",
       "\n",
       "     ApplicantIncome  CoapplicantIncome  LoanAmount  Loan_Amount_Term  \\\n",
       "0               5720                  0       110.0             360.0   \n",
       "1               3076               1500       126.0             360.0   \n",
       "2               5000               1800       208.0             360.0   \n",
       "3               2340               2546       100.0             360.0   \n",
       "4               3276                  0        78.0             360.0   \n",
       "..               ...                ...         ...               ...   \n",
       "362             4009               1777       113.0             360.0   \n",
       "363             4158                709       115.0             360.0   \n",
       "364             3250               1993       126.0             360.0   \n",
       "365             5000               2393       158.0             360.0   \n",
       "366             9200                  0        98.0             180.0   \n",
       "\n",
       "     Credit_History Property_Area  \n",
       "0               1.0         Urban  \n",
       "1               1.0         Urban  \n",
       "2               1.0         Urban  \n",
       "3               NaN         Urban  \n",
       "4               1.0         Urban  \n",
       "..              ...           ...  \n",
       "362             1.0         Urban  \n",
       "363             1.0         Urban  \n",
       "364             NaN     Semiurban  \n",
       "365             1.0         Rural  \n",
       "366             1.0         Rural  \n",
       "\n",
       "[367 rows x 12 columns]"
      ]
     },
     "execution_count": 5,
     "metadata": {},
     "output_type": "execute_result"
    }
   ],
   "source": [
    "test"
   ]
  },
  {
   "cell_type": "code",
   "execution_count": 6,
   "id": "4df9d2a2",
   "metadata": {},
   "outputs": [],
   "source": [
    "## making copy of dataset to retain original dataset\n",
    "train_original = train.copy()\n",
    "test_original = test.copy()"
   ]
  },
  {
   "cell_type": "code",
   "execution_count": 7,
   "id": "b3191f57",
   "metadata": {},
   "outputs": [
    {
     "name": "stdout",
     "output_type": "stream",
     "text": [
      "<class 'pandas.core.frame.DataFrame'>\n",
      "RangeIndex: 614 entries, 0 to 613\n",
      "Data columns (total 13 columns):\n",
      " #   Column             Non-Null Count  Dtype  \n",
      "---  ------             --------------  -----  \n",
      " 0   Loan_ID            614 non-null    object \n",
      " 1   Gender             601 non-null    object \n",
      " 2   Married            611 non-null    object \n",
      " 3   Dependents         599 non-null    object \n",
      " 4   Education          614 non-null    object \n",
      " 5   Self_Employed      582 non-null    object \n",
      " 6   ApplicantIncome    614 non-null    int64  \n",
      " 7   CoapplicantIncome  614 non-null    float64\n",
      " 8   LoanAmount         592 non-null    float64\n",
      " 9   Loan_Amount_Term   600 non-null    float64\n",
      " 10  Credit_History     564 non-null    float64\n",
      " 11  Property_Area      614 non-null    object \n",
      " 12  Loan_Status        614 non-null    object \n",
      "dtypes: float64(4), int64(1), object(8)\n",
      "memory usage: 62.5+ KB\n"
     ]
    }
   ],
   "source": [
    "train.info()"
   ]
  },
  {
   "cell_type": "code",
   "execution_count": 8,
   "id": "9bf2faba",
   "metadata": {},
   "outputs": [
    {
     "name": "stdout",
     "output_type": "stream",
     "text": [
      "<class 'pandas.core.frame.DataFrame'>\n",
      "RangeIndex: 367 entries, 0 to 366\n",
      "Data columns (total 12 columns):\n",
      " #   Column             Non-Null Count  Dtype  \n",
      "---  ------             --------------  -----  \n",
      " 0   Loan_ID            367 non-null    object \n",
      " 1   Gender             356 non-null    object \n",
      " 2   Married            367 non-null    object \n",
      " 3   Dependents         357 non-null    object \n",
      " 4   Education          367 non-null    object \n",
      " 5   Self_Employed      344 non-null    object \n",
      " 6   ApplicantIncome    367 non-null    int64  \n",
      " 7   CoapplicantIncome  367 non-null    int64  \n",
      " 8   LoanAmount         362 non-null    float64\n",
      " 9   Loan_Amount_Term   361 non-null    float64\n",
      " 10  Credit_History     338 non-null    float64\n",
      " 11  Property_Area      367 non-null    object \n",
      "dtypes: float64(3), int64(2), object(7)\n",
      "memory usage: 34.5+ KB\n"
     ]
    }
   ],
   "source": [
    "test.info()"
   ]
  },
  {
   "cell_type": "code",
   "execution_count": 9,
   "id": "86ff9220",
   "metadata": {},
   "outputs": [
    {
     "data": {
      "text/plain": [
       "Loan_ID               0\n",
       "Gender               13\n",
       "Married               3\n",
       "Dependents           15\n",
       "Education             0\n",
       "Self_Employed        32\n",
       "ApplicantIncome       0\n",
       "CoapplicantIncome     0\n",
       "LoanAmount           22\n",
       "Loan_Amount_Term     14\n",
       "Credit_History       50\n",
       "Property_Area         0\n",
       "Loan_Status           0\n",
       "dtype: int64"
      ]
     },
     "execution_count": 9,
     "metadata": {},
     "output_type": "execute_result"
    }
   ],
   "source": [
    "#checking null\n",
    "train.isnull().sum()"
   ]
  },
  {
   "cell_type": "code",
   "execution_count": 10,
   "id": "614d3411",
   "metadata": {},
   "outputs": [
    {
     "data": {
      "text/plain": [
       "((614, 13), (367, 12))"
      ]
     },
     "execution_count": 10,
     "metadata": {},
     "output_type": "execute_result"
    }
   ],
   "source": [
    "train.shape , test.shape"
   ]
  },
  {
   "cell_type": "markdown",
   "id": "ad8928fe",
   "metadata": {},
   "source": [
    " **Univariate analysis** is analysis of data variable individually.\n",
    "> for categorial features we can use **bar plot** or frequency table.\\\n",
    "> for numerical features we can use **probability density plot**.\n"
   ]
  },
  {
   "cell_type": "code",
   "execution_count": 11,
   "id": "26b5810b",
   "metadata": {},
   "outputs": [
    {
     "data": {
      "text/plain": [
       "Y    422\n",
       "N    192\n",
       "Name: Loan_Status, dtype: int64"
      ]
     },
     "execution_count": 11,
     "metadata": {},
     "output_type": "execute_result"
    }
   ],
   "source": [
    "train['Loan_Status'].value_counts()"
   ]
  },
  {
   "cell_type": "code",
   "execution_count": 12,
   "id": "3e3b14ce",
   "metadata": {},
   "outputs": [
    {
     "data": {
      "text/plain": [
       "Y    0.687296\n",
       "N    0.312704\n",
       "Name: Loan_Status, dtype: float64"
      ]
     },
     "execution_count": 12,
     "metadata": {},
     "output_type": "execute_result"
    }
   ],
   "source": [
    "train['Loan_Status'].value_counts(normalize=True)"
   ]
  },
  {
   "cell_type": "code",
   "execution_count": 13,
   "id": "5b05891a",
   "metadata": {},
   "outputs": [],
   "source": [
    "## Loan of 422(69%) people approved out of 614 applicants"
   ]
  },
  {
   "cell_type": "code",
   "execution_count": 14,
   "id": "b2ecfbbb",
   "metadata": {},
   "outputs": [
    {
     "data": {
      "text/plain": [
       "<AxesSubplot:>"
      ]
     },
     "execution_count": 14,
     "metadata": {},
     "output_type": "execute_result"
    },
    {
     "data": {
      "image/png": "[encoded data removed]",
      "text/plain": [
       "<Figure size 432x288 with 1 Axes>"
      ]
     },
     "metadata": {
      "needs_background": "light"
     },
     "output_type": "display_data"
    }
   ],
   "source": [
    "train['Loan_Status'].value_counts().plot.bar()"
   ]
  },
  {
   "cell_type": "markdown",
   "id": "15c59a47",
   "metadata": {},
   "source": [
    "### Independent Variable (Categorical)\n",
    "\n",
    "> A categorical variable (sometimes called a nominal variable) is one that has two or more categories, but there is no intrinsic ordering to the categories. For example, a binary variable (such as yes/no question) is a categorical variable having two categories (yes or no) and there is no intrinsic ordering to the categories.  Hair color is also a categorical variable having a number of categories (blonde, brown, brunette, red, etc.) and again, there is no agreed way to order these from highest to lowest.\n"
   ]
  },
  {
   "cell_type": "code",
   "execution_count": 15,
   "id": "265c88c9",
   "metadata": {},
   "outputs": [
    {
     "data": {
      "text/plain": [
       "<AxesSubplot:title={'center':'Credit_History'}>"
      ]
     },
     "execution_count": 15,
     "metadata": {},
     "output_type": "execute_result"
    },
    {
     "data": {
      "image/png": "[encoded data removed]",
      "text/plain": [
       "<Figure size 1440x720 with 4 Axes>"
      ]
     },
     "metadata": {
      "needs_background": "light"
     },
     "output_type": "display_data"
    }
   ],
   "source": [
    "plt.figure(figsize=(20,10))\n",
    "plt.subplot(221)\n",
    "train['Gender'].value_counts(normalize=True).plot.bar(title='Gender')\n",
    "\n",
    "plt.subplot(222)\n",
    "train['Married'].value_counts(normalize=True).plot.bar(title='Married')\n",
    "\n",
    "plt.subplot(223)\n",
    "train['Self_Employed'].value_counts(normalize=True).plot.bar(title='Self_Employed')\n",
    "\n",
    "plt.subplot(224)\n",
    "train['Credit_History'].value_counts(normalize=True).plot.bar(title='Credit_History')\n",
    "\n"
   ]
  },
  {
   "cell_type": "markdown",
   "id": "97f14658",
   "metadata": {},
   "source": [
    "### Inference from above Bar plots\n",
    "\n",
    "1. 80% of aaplicants for loan are male\n",
    "2. approx 65% applicants are married\n",
    "3. 85% applicants are not self employed.\n",
    "4. 85% have good credit history."
   ]
  },
  {
   "cell_type": "markdown",
   "id": "dfdc3c3c",
   "metadata": {},
   "source": [
    "###  Independent variable (Ordinal)\n",
    "> An ordinal variable is similar to a categorical variable.  The difference between the two is that there is a clear ordering of the categories. For example, suppose you have a variable, economic status, with three categories (low, medium and high).  variable like educational experience (with values such as elementary school graduate, high school graduate, some college and college graduate). These also can be ordered as elementary school, high school, some college, and college graduate"
   ]
  },
  {
   "cell_type": "code",
   "execution_count": 16,
   "id": "21014265",
   "metadata": {},
   "outputs": [
    {
     "data": {
      "text/plain": [
       "<AxesSubplot:title={'center':'Property_Area'}>"
      ]
     },
     "execution_count": 16,
     "metadata": {},
     "output_type": "execute_result"
    },
    {
     "data": {
      "image/png": "[encoded data removed]",
      "text/plain": [
       "<Figure size 1080x432 with 3 Axes>"
      ]
     },
     "metadata": {
      "needs_background": "light"
     },
     "output_type": "display_data"
    }
   ],
   "source": [
    "\n",
    "plt.subplot(131)\n",
    "train['Education'].value_counts(normalize=True).plot.bar(title='Education' , figsize=(15,6))\n",
    "\n",
    "plt.subplot(132)\n",
    "train['Dependents'].value_counts(normalize=True).plot.bar(title='Dependents' , figsize=(15,6))\n",
    "\n",
    "plt.subplot(133)\n",
    "train['Property_Area'].value_counts(normalize=True).plot.bar(title='Property_Area' , figsize=(15,6))"
   ]
  },
  {
   "cell_type": "markdown",
   "id": "5416bfb1",
   "metadata": {},
   "source": [
    "## Inference\n",
    "1. approx 75% are graduates\n",
    "2. more than 50% dependents does not have any dependnts\n",
    "3. more than 35% from semiurban area"
   ]
  },
  {
   "cell_type": "markdown",
   "id": "57c1c23f",
   "metadata": {},
   "source": [
    "Q . **Why does it matter whether a variable is categorical, ordinal?**\\\n",
    "A. An average of a nominal variable does not make much sense because there is no intrinsic ordering of the levels of the categories. Moreover, if you tried to compute the average of educational experience as defined in the ordinal section above, you would also obtain a nonsensical result. "
   ]
  },
  {
   "cell_type": "code",
   "execution_count": 17,
   "id": "cfbafc92",
   "metadata": {},
   "outputs": [],
   "source": [
    "## independent variables (Numerical)"
   ]
  },
  {
   "cell_type": "code",
   "execution_count": 18,
   "id": "aa2b0843",
   "metadata": {},
   "outputs": [
    {
     "data": {
      "image/png": "[encoded data removed]",
      "text/plain": [
       "<Figure size 1080x432 with 2 Axes>"
      ]
     },
     "metadata": {
      "needs_background": "light"
     },
     "output_type": "display_data"
    }
   ],
   "source": [
    "plt.subplot(121)\n",
    "sns.distplot(train['ApplicantIncome'])\n",
    "\n",
    "plt.subplot(122)\n",
    "train['ApplicantIncome'].plot.box(figsize=(15,6))\n",
    "plt.show()"
   ]
  },
  {
   "cell_type": "code",
   "execution_count": 19,
   "id": "bccae8a6",
   "metadata": {},
   "outputs": [],
   "source": [
    "# applicant income is towards left means it is not normally distributed./\n",
    "# box plot confirms the ouliers presence.this sttrubutes toward income disparity in society./\n"
   ]
  },
  {
   "cell_type": "code",
   "execution_count": 20,
   "id": "b07b0ccd",
   "metadata": {},
   "outputs": [
    {
     "data": {
      "text/plain": [
       "Text(0.5, 0.98, ' ')"
      ]
     },
     "execution_count": 20,
     "metadata": {},
     "output_type": "execute_result"
    },
    {
     "data": {
      "image/png": "[encoded data removed]",
      "text/plain": [
       "<Figure size 432x288 with 1 Axes>"
      ]
     },
     "metadata": {
      "needs_background": "light"
     },
     "output_type": "display_data"
    }
   ],
   "source": [
    "train.boxplot(column='ApplicantIncome', by='Education')\n",
    "plt.suptitle(\" \")\n"
   ]
  },
  {
   "cell_type": "code",
   "execution_count": 21,
   "id": "55664766",
   "metadata": {},
   "outputs": [],
   "source": [
    "## we can see that graduates have very high income"
   ]
  },
  {
   "cell_type": "code",
   "execution_count": 22,
   "id": "8b8980ac",
   "metadata": {},
   "outputs": [
    {
     "data": {
      "image/png": "[encoded data removed]",
      "text/plain": [
       "<Figure size 1080x432 with 2 Axes>"
      ]
     },
     "metadata": {
      "needs_background": "light"
     },
     "output_type": "display_data"
    }
   ],
   "source": [
    "plt.subplot(121)\n",
    "sns.distplot(train['CoapplicantIncome'])\n",
    "\n",
    "plt.subplot(122)\n",
    "train['CoapplicantIncome'].plot.box(figsize=(15,6))\n",
    "plt.show()"
   ]
  },
  {
   "cell_type": "code",
   "execution_count": 23,
   "id": "a6f0382b",
   "metadata": {},
   "outputs": [
    {
     "data": {
      "image/png": "[encoded data removed]",
      "text/plain": [
       "<Figure size 1152x432 with 2 Axes>"
      ]
     },
     "metadata": {
      "needs_background": "light"
     },
     "output_type": "display_data"
    }
   ],
   "source": [
    "plt.subplot(121)\n",
    "sns.distplot(train['LoanAmount'])\n",
    "\n",
    "plt.subplot(122)\n",
    "train['LoanAmount'].plot.box(figsize=(16,6))\n",
    "plt.show()"
   ]
  },
  {
   "cell_type": "code",
   "execution_count": 24,
   "id": "320c05ab",
   "metadata": {},
   "outputs": [],
   "source": [
    "## distribution seems faily normal but it consists lots of outliers.\n"
   ]
  },
  {
   "cell_type": "markdown",
   "id": "c0c2c847",
   "metadata": {},
   "source": [
    "## Bivariate Anlysis"
   ]
  },
  {
   "cell_type": "code",
   "execution_count": 25,
   "id": "abb425b8",
   "metadata": {},
   "outputs": [],
   "source": [
    "Gender = pd.crosstab(train['Gender'],train['Loan_Status'],normalize='index')\n"
   ]
  },
  {
   "cell_type": "code",
   "execution_count": 26,
   "id": "991c6711",
   "metadata": {},
   "outputs": [
    {
     "data": {
      "text/html": [
       "<div>\n",
       "<style scoped>\n",
       "    .dataframe tbody tr th:only-of-type {\n",
       "        vertical-align: middle;\n",
       "    }\n",
       "\n",
       "    .dataframe tbody tr th {\n",
       "        vertical-align: top;\n",
       "    }\n",
       "\n",
       "    .dataframe thead th {\n",
       "        text-align: right;\n",
       "    }\n",
       "</style>\n",
       "<table border=\"1\" class=\"dataframe\">\n",
       "  <thead>\n",
       "    <tr style=\"text-align: right;\">\n",
       "      <th>Loan_Status</th>\n",
       "      <th>N</th>\n",
       "      <th>Y</th>\n",
       "    </tr>\n",
       "    <tr>\n",
       "      <th>Gender</th>\n",
       "      <th></th>\n",
       "      <th></th>\n",
       "    </tr>\n",
       "  </thead>\n",
       "  <tbody>\n",
       "    <tr>\n",
       "      <th>Female</th>\n",
       "      <td>0.330357</td>\n",
       "      <td>0.669643</td>\n",
       "    </tr>\n",
       "    <tr>\n",
       "      <th>Male</th>\n",
       "      <td>0.306748</td>\n",
       "      <td>0.693252</td>\n",
       "    </tr>\n",
       "  </tbody>\n",
       "</table>\n",
       "</div>"
      ],
      "text/plain": [
       "Loan_Status         N         Y\n",
       "Gender                         \n",
       "Female       0.330357  0.669643\n",
       "Male         0.306748  0.693252"
      ]
     },
     "execution_count": 26,
     "metadata": {},
     "output_type": "execute_result"
    }
   ],
   "source": [
    "Gender"
   ]
  },
  {
   "cell_type": "code",
   "execution_count": 27,
   "id": "9596577d",
   "metadata": {},
   "outputs": [
    {
     "data": {
      "text/plain": [
       "<AxesSubplot:xlabel='Gender'>"
      ]
     },
     "execution_count": 27,
     "metadata": {},
     "output_type": "execute_result"
    },
    {
     "data": {
      "image/png": "[encoded data removed]",
      "text/plain": [
       "<Figure size 432x288 with 1 Axes>"
      ]
     },
     "metadata": {
      "needs_background": "light"
     },
     "output_type": "display_data"
    }
   ],
   "source": [
    "Gender.plot(kind='bar',stacked=True )"
   ]
  },
  {
   "cell_type": "code",
   "execution_count": 28,
   "id": "85ecde81",
   "metadata": {},
   "outputs": [
    {
     "data": {
      "image/png": "[encoded data removed]",
      "text/plain": [
       "<Figure size 720x432 with 1 Axes>"
      ]
     },
     "metadata": {
      "needs_background": "light"
     },
     "output_type": "display_data"
    }
   ],
   "source": [
    "Gender.plot(kind='bar', stacked=True, colormap='tab10', figsize=(10, 6))\n",
    "plt.legend(loc=\"upper left\", ncol=2)\n",
    "plt.xlabel(\"Gender\")\n",
    "plt.ylabel(\"Proportion\")\n",
    "plt.show()"
   ]
  },
  {
   "cell_type": "code",
   "execution_count": 29,
   "id": "7df57403",
   "metadata": {},
   "outputs": [
    {
     "data": {
      "text/plain": [
       "<AxesSubplot:xlabel='Self_Employed'>"
      ]
     },
     "execution_count": 29,
     "metadata": {},
     "output_type": "execute_result"
    },
    {
     "data": {
      "image/png": "[encoded data removed]",
      "text/plain": [
       "<Figure size 432x288 with 1 Axes>"
      ]
     },
     "metadata": {
      "needs_background": "light"
     },
     "output_type": "display_data"
    },
    {
     "data": {
      "image/png": "[encoded data removed]",
      "text/plain": [
       "<Figure size 432x288 with 1 Axes>"
      ]
     },
     "metadata": {
      "needs_background": "light"
     },
     "output_type": "display_data"
    },
    {
     "data": {
      "image/png": "[encoded data removed]",
      "text/plain": [
       "<Figure size 432x288 with 1 Axes>"
      ]
     },
     "metadata": {
      "needs_background": "light"
     },
     "output_type": "display_data"
    },
    {
     "data": {
      "image/png": "[encoded data removed]",
      "text/plain": [
       "<Figure size 432x288 with 1 Axes>"
      ]
     },
     "metadata": {
      "needs_background": "light"
     },
     "output_type": "display_data"
    }
   ],
   "source": [
    "Married = pd.crosstab(train['Married'],train['Loan_Status'],normalize='index')\n",
    "Married.plot(kind='bar',stacked=True )\n",
    "\n",
    "Dependents = pd.crosstab(train['Dependents'],train['Loan_Status'],normalize='index')\n",
    "Dependents.plot(kind='bar',stacked=True )\n",
    "\n",
    "Education= pd.crosstab(train['Education'],train['Loan_Status'],normalize='index')\n",
    "Education.plot(kind='bar',stacked=True )\n",
    "\n",
    "Self_Employed= pd.crosstab(train['Self_Employed'],train['Loan_Status'],normalize='index')\n",
    "Self_Employed.plot(kind='bar',stacked=True )\n",
    "\n"
   ]
  },
  {
   "cell_type": "code",
   "execution_count": 30,
   "id": "08e5545a",
   "metadata": {},
   "outputs": [
    {
     "data": {
      "text/plain": [
       "<AxesSubplot:xlabel='Property_Area'>"
      ]
     },
     "execution_count": 30,
     "metadata": {},
     "output_type": "execute_result"
    },
    {
     "data": {
      "image/png": "[encoded data removed]",
      "text/plain": [
       "<Figure size 432x288 with 1 Axes>"
      ]
     },
     "metadata": {
      "needs_background": "light"
     },
     "output_type": "display_data"
    },
    {
     "data": {
      "image/png": "[encoded data removed]",
      "text/plain": [
       "<Figure size 432x288 with 1 Axes>"
      ]
     },
     "metadata": {
      "needs_background": "light"
     },
     "output_type": "display_data"
    }
   ],
   "source": [
    "Credit_History= pd.crosstab(train['Credit_History'],train['Loan_Status'],normalize='index')\n",
    "Credit_History.plot(kind='bar',stacked=True )\n",
    "\n",
    "Property_Area= pd.crosstab(train['Property_Area'],train['Loan_Status'],normalize='index')\n",
    "Property_Area.plot(kind='bar',stacked=True )"
   ]
  },
  {
   "cell_type": "code",
   "execution_count": 31,
   "id": "a15c1977",
   "metadata": {},
   "outputs": [],
   "source": [
    "## people with credit history 1 are more likely to get loan approved\n",
    "## proportion of loan getting approved in semiurban area is higher as compared to other area."
   ]
  },
  {
   "cell_type": "code",
   "execution_count": 32,
   "id": "e41b49a4",
   "metadata": {},
   "outputs": [
    {
     "data": {
      "text/plain": [
       "<AxesSubplot:xlabel='Loan_Status'>"
      ]
     },
     "execution_count": 32,
     "metadata": {},
     "output_type": "execute_result"
    },
    {
     "data": {
      "image/png": "[encoded data removed]",
      "text/plain": [
       "<Figure size 432x288 with 1 Axes>"
      ]
     },
     "metadata": {
      "needs_background": "light"
     },
     "output_type": "display_data"
    }
   ],
   "source": [
    "## mean income of people for which loan has been approved\n",
    "train.groupby('Loan_Status')['ApplicantIncome'].mean().plot.bar()"
   ]
  },
  {
   "cell_type": "code",
   "execution_count": 33,
   "id": "811848c7",
   "metadata": {},
   "outputs": [],
   "source": [
    "## replace 3+ with 3 and 'N'with 0 and Y with 1\n",
    "train['Dependents'].replace('3+',3,inplace=True)\n",
    "test['Dependents'].replace('3+',3,inplace=True)\n",
    "train['Loan_Status'].replace('N',0,inplace=True)\n",
    "train['Loan_Status'].replace('Y',1,inplace=True)"
   ]
  },
  {
   "cell_type": "code",
   "execution_count": 34,
   "id": "f2a4054b",
   "metadata": {},
   "outputs": [
    {
     "data": {
      "text/html": [
       "<div>\n",
       "<style scoped>\n",
       "    .dataframe tbody tr th:only-of-type {\n",
       "        vertical-align: middle;\n",
       "    }\n",
       "\n",
       "    .dataframe tbody tr th {\n",
       "        vertical-align: top;\n",
       "    }\n",
       "\n",
       "    .dataframe thead th {\n",
       "        text-align: right;\n",
       "    }\n",
       "</style>\n",
       "<table border=\"1\" class=\"dataframe\">\n",
       "  <thead>\n",
       "    <tr style=\"text-align: right;\">\n",
       "      <th></th>\n",
       "      <th>Loan_ID</th>\n",
       "      <th>Gender</th>\n",
       "      <th>Married</th>\n",
       "      <th>Dependents</th>\n",
       "      <th>Education</th>\n",
       "      <th>Self_Employed</th>\n",
       "      <th>ApplicantIncome</th>\n",
       "      <th>CoapplicantIncome</th>\n",
       "      <th>LoanAmount</th>\n",
       "      <th>Loan_Amount_Term</th>\n",
       "      <th>Credit_History</th>\n",
       "      <th>Property_Area</th>\n",
       "      <th>Loan_Status</th>\n",
       "    </tr>\n",
       "  </thead>\n",
       "  <tbody>\n",
       "    <tr>\n",
       "      <th>0</th>\n",
       "      <td>LP001002</td>\n",
       "      <td>Male</td>\n",
       "      <td>No</td>\n",
       "      <td>0</td>\n",
       "      <td>Graduate</td>\n",
       "      <td>No</td>\n",
       "      <td>5849</td>\n",
       "      <td>0.0</td>\n",
       "      <td>NaN</td>\n",
       "      <td>360.0</td>\n",
       "      <td>1.0</td>\n",
       "      <td>Urban</td>\n",
       "      <td>1</td>\n",
       "    </tr>\n",
       "    <tr>\n",
       "      <th>1</th>\n",
       "      <td>LP001003</td>\n",
       "      <td>Male</td>\n",
       "      <td>Yes</td>\n",
       "      <td>1</td>\n",
       "      <td>Graduate</td>\n",
       "      <td>No</td>\n",
       "      <td>4583</td>\n",
       "      <td>1508.0</td>\n",
       "      <td>128.0</td>\n",
       "      <td>360.0</td>\n",
       "      <td>1.0</td>\n",
       "      <td>Rural</td>\n",
       "      <td>0</td>\n",
       "    </tr>\n",
       "    <tr>\n",
       "      <th>2</th>\n",
       "      <td>LP001005</td>\n",
       "      <td>Male</td>\n",
       "      <td>Yes</td>\n",
       "      <td>0</td>\n",
       "      <td>Graduate</td>\n",
       "      <td>Yes</td>\n",
       "      <td>3000</td>\n",
       "      <td>0.0</td>\n",
       "      <td>66.0</td>\n",
       "      <td>360.0</td>\n",
       "      <td>1.0</td>\n",
       "      <td>Urban</td>\n",
       "      <td>1</td>\n",
       "    </tr>\n",
       "    <tr>\n",
       "      <th>3</th>\n",
       "      <td>LP001006</td>\n",
       "      <td>Male</td>\n",
       "      <td>Yes</td>\n",
       "      <td>0</td>\n",
       "      <td>Not Graduate</td>\n",
       "      <td>No</td>\n",
       "      <td>2583</td>\n",
       "      <td>2358.0</td>\n",
       "      <td>120.0</td>\n",
       "      <td>360.0</td>\n",
       "      <td>1.0</td>\n",
       "      <td>Urban</td>\n",
       "      <td>1</td>\n",
       "    </tr>\n",
       "    <tr>\n",
       "      <th>4</th>\n",
       "      <td>LP001008</td>\n",
       "      <td>Male</td>\n",
       "      <td>No</td>\n",
       "      <td>0</td>\n",
       "      <td>Graduate</td>\n",
       "      <td>No</td>\n",
       "      <td>6000</td>\n",
       "      <td>0.0</td>\n",
       "      <td>141.0</td>\n",
       "      <td>360.0</td>\n",
       "      <td>1.0</td>\n",
       "      <td>Urban</td>\n",
       "      <td>1</td>\n",
       "    </tr>\n",
       "    <tr>\n",
       "      <th>...</th>\n",
       "      <td>...</td>\n",
       "      <td>...</td>\n",
       "      <td>...</td>\n",
       "      <td>...</td>\n",
       "      <td>...</td>\n",
       "      <td>...</td>\n",
       "      <td>...</td>\n",
       "      <td>...</td>\n",
       "      <td>...</td>\n",
       "      <td>...</td>\n",
       "      <td>...</td>\n",
       "      <td>...</td>\n",
       "      <td>...</td>\n",
       "    </tr>\n",
       "    <tr>\n",
       "      <th>609</th>\n",
       "      <td>LP002978</td>\n",
       "      <td>Female</td>\n",
       "      <td>No</td>\n",
       "      <td>0</td>\n",
       "      <td>Graduate</td>\n",
       "      <td>No</td>\n",
       "      <td>2900</td>\n",
       "      <td>0.0</td>\n",
       "      <td>71.0</td>\n",
       "      <td>360.0</td>\n",
       "      <td>1.0</td>\n",
       "      <td>Rural</td>\n",
       "      <td>1</td>\n",
       "    </tr>\n",
       "    <tr>\n",
       "      <th>610</th>\n",
       "      <td>LP002979</td>\n",
       "      <td>Male</td>\n",
       "      <td>Yes</td>\n",
       "      <td>3</td>\n",
       "      <td>Graduate</td>\n",
       "      <td>No</td>\n",
       "      <td>4106</td>\n",
       "      <td>0.0</td>\n",
       "      <td>40.0</td>\n",
       "      <td>180.0</td>\n",
       "      <td>1.0</td>\n",
       "      <td>Rural</td>\n",
       "      <td>1</td>\n",
       "    </tr>\n",
       "    <tr>\n",
       "      <th>611</th>\n",
       "      <td>LP002983</td>\n",
       "      <td>Male</td>\n",
       "      <td>Yes</td>\n",
       "      <td>1</td>\n",
       "      <td>Graduate</td>\n",
       "      <td>No</td>\n",
       "      <td>8072</td>\n",
       "      <td>240.0</td>\n",
       "      <td>253.0</td>\n",
       "      <td>360.0</td>\n",
       "      <td>1.0</td>\n",
       "      <td>Urban</td>\n",
       "      <td>1</td>\n",
       "    </tr>\n",
       "    <tr>\n",
       "      <th>612</th>\n",
       "      <td>LP002984</td>\n",
       "      <td>Male</td>\n",
       "      <td>Yes</td>\n",
       "      <td>2</td>\n",
       "      <td>Graduate</td>\n",
       "      <td>No</td>\n",
       "      <td>7583</td>\n",
       "      <td>0.0</td>\n",
       "      <td>187.0</td>\n",
       "      <td>360.0</td>\n",
       "      <td>1.0</td>\n",
       "      <td>Urban</td>\n",
       "      <td>1</td>\n",
       "    </tr>\n",
       "    <tr>\n",
       "      <th>613</th>\n",
       "      <td>LP002990</td>\n",
       "      <td>Female</td>\n",
       "      <td>No</td>\n",
       "      <td>0</td>\n",
       "      <td>Graduate</td>\n",
       "      <td>Yes</td>\n",
       "      <td>4583</td>\n",
       "      <td>0.0</td>\n",
       "      <td>133.0</td>\n",
       "      <td>360.0</td>\n",
       "      <td>0.0</td>\n",
       "      <td>Semiurban</td>\n",
       "      <td>0</td>\n",
       "    </tr>\n",
       "  </tbody>\n",
       "</table>\n",
       "<p>614 rows × 13 columns</p>\n",
       "</div>"
      ],
      "text/plain": [
       "      Loan_ID  Gender Married Dependents     Education Self_Employed  \\\n",
       "0    LP001002    Male      No          0      Graduate            No   \n",
       "1    LP001003    Male     Yes          1      Graduate            No   \n",
       "2    LP001005    Male     Yes          0      Graduate           Yes   \n",
       "3    LP001006    Male     Yes          0  Not Graduate            No   \n",
       "4    LP001008    Male      No          0      Graduate            No   \n",
       "..        ...     ...     ...        ...           ...           ...   \n",
       "609  LP002978  Female      No          0      Graduate            No   \n",
       "610  LP002979    Male     Yes          3      Graduate            No   \n",
       "611  LP002983    Male     Yes          1      Graduate            No   \n",
       "612  LP002984    Male     Yes          2      Graduate            No   \n",
       "613  LP002990  Female      No          0      Graduate           Yes   \n",
       "\n",
       "     ApplicantIncome  CoapplicantIncome  LoanAmount  Loan_Amount_Term  \\\n",
       "0               5849                0.0         NaN             360.0   \n",
       "1               4583             1508.0       128.0             360.0   \n",
       "2               3000                0.0        66.0             360.0   \n",
       "3               2583             2358.0       120.0             360.0   \n",
       "4               6000                0.0       141.0             360.0   \n",
       "..               ...                ...         ...               ...   \n",
       "609             2900                0.0        71.0             360.0   \n",
       "610             4106                0.0        40.0             180.0   \n",
       "611             8072              240.0       253.0             360.0   \n",
       "612             7583                0.0       187.0             360.0   \n",
       "613             4583                0.0       133.0             360.0   \n",
       "\n",
       "     Credit_History Property_Area  Loan_Status  \n",
       "0               1.0         Urban            1  \n",
       "1               1.0         Rural            0  \n",
       "2               1.0         Urban            1  \n",
       "3               1.0         Urban            1  \n",
       "4               1.0         Urban            1  \n",
       "..              ...           ...          ...  \n",
       "609             1.0         Rural            1  \n",
       "610             1.0         Rural            1  \n",
       "611             1.0         Urban            1  \n",
       "612             1.0         Urban            1  \n",
       "613             0.0     Semiurban            0  \n",
       "\n",
       "[614 rows x 13 columns]"
      ]
     },
     "execution_count": 34,
     "metadata": {},
     "output_type": "execute_result"
    }
   ],
   "source": [
    "train"
   ]
  },
  {
   "cell_type": "code",
   "execution_count": 35,
   "id": "cec77390",
   "metadata": {
    "scrolled": false
   },
   "outputs": [
    {
     "data": {
      "text/plain": [
       "<AxesSubplot:>"
      ]
     },
     "execution_count": 35,
     "metadata": {},
     "output_type": "execute_result"
    },
    {
     "data": {
      "image/png": "[encoded data removed]",
      "text/plain": [
       "<Figure size 432x288 with 2 Axes>"
      ]
     },
     "metadata": {
      "needs_background": "light"
     },
     "output_type": "display_data"
    }
   ],
   "source": [
    "# we will use heat map to visualize correlation.\n",
    "matrix = train.corr()\n",
    "sns.heatmap(matrix,cmap='RdGy_r',vmax=1,vmin=-1 , annot=True)"
   ]
  },
  {
   "cell_type": "code",
   "execution_count": 36,
   "id": "620edfde",
   "metadata": {},
   "outputs": [],
   "source": [
    "# most correlated variables are (Applicant_income-loanAmount),( credit_history - Loan_amount)"
   ]
  },
  {
   "cell_type": "markdown",
   "id": "1e91c496",
   "metadata": {},
   "source": [
    "### Outliers and missing value treatement"
   ]
  },
  {
   "cell_type": "markdown",
   "id": "76afd060",
   "metadata": {},
   "source": [
    "### missing value imputation\n",
    ">**for numerical variables:** imputation using mean or median.\\\n",
    "> **for categorical variable:** imputation using mode\n"
   ]
  },
  {
   "cell_type": "code",
   "execution_count": 37,
   "id": "eb45fe44",
   "metadata": {},
   "outputs": [],
   "source": [
    "train['Gender'].fillna(train['Gender'].mode()[0],inplace=True)\n",
    "train['Married'].fillna(train['Married'].mode()[0],inplace=True)\n",
    "train['Dependents'].fillna(train['Dependents'].mode()[0],inplace=True)\n",
    "train['Self_Employed'].fillna(train['Self_Employed'].mode()[0],inplace=True)\n",
    "train['Credit_History'].fillna(train['Credit_History'].mode()[0],inplace=True)"
   ]
  },
  {
   "cell_type": "code",
   "execution_count": 38,
   "id": "0f851584",
   "metadata": {},
   "outputs": [],
   "source": [
    "train['Loan_Amount_Term'].fillna(train['Loan_Amount_Term'].mode()[0],inplace=True)\n",
    "##.mode() returns two values and hence to use the mode value, we use [0] in that case."
   ]
  },
  {
   "cell_type": "code",
   "execution_count": 39,
   "id": "8574d6d3",
   "metadata": {},
   "outputs": [],
   "source": [
    "# we saw that LoanAmount have outliers, mean will not be great approach\\\n",
    "# as it is affected by ouliers so we use Median to fill null vallues\n",
    "train['LoanAmount'].fillna(train['LoanAmount'].median(),inplace=True)"
   ]
  },
  {
   "cell_type": "code",
   "execution_count": 40,
   "id": "fe4f9917",
   "metadata": {},
   "outputs": [
    {
     "data": {
      "text/plain": [
       "Loan_ID              0\n",
       "Gender               0\n",
       "Married              0\n",
       "Dependents           0\n",
       "Education            0\n",
       "Self_Employed        0\n",
       "ApplicantIncome      0\n",
       "CoapplicantIncome    0\n",
       "LoanAmount           0\n",
       "Loan_Amount_Term     0\n",
       "Credit_History       0\n",
       "Property_Area        0\n",
       "Loan_Status          0\n",
       "dtype: int64"
      ]
     },
     "execution_count": 40,
     "metadata": {},
     "output_type": "execute_result"
    }
   ],
   "source": [
    "train.isnull().sum()\n"
   ]
  },
  {
   "cell_type": "markdown",
   "id": "4878e1d4",
   "metadata": {},
   "source": [
    "## imputation for test data\n",
    "> As a general guideline, we use the statistics of the train set to fill the missing values in test set. \n",
    "Since, test set is unseen data, we do not use it for any imputations.\n"
   ]
  },
  {
   "cell_type": "code",
   "execution_count": 41,
   "id": "d34cea9f",
   "metadata": {},
   "outputs": [],
   "source": [
    "test['Gender'].fillna(train['Gender'].mode()[0],inplace=True)\n",
    "test['Dependents'].fillna(train['Dependents'].mode()[0],inplace=True)\n",
    "test['Self_Employed'].fillna(train['Self_Employed'].mode()[0],inplace=True)\n",
    "test['Credit_History'].fillna(train['Credit_History'].mode()[0],inplace=True)\n",
    "test['Loan_Amount_Term'].fillna(train['Loan_Amount_Term'].mode()[0],inplace=True)\n",
    "test['LoanAmount'].fillna(train['LoanAmount'].median(),inplace=True)\n"
   ]
  },
  {
   "cell_type": "code",
   "execution_count": 42,
   "id": "50c2b8f7",
   "metadata": {},
   "outputs": [
    {
     "data": {
      "text/plain": [
       "Loan_ID              0\n",
       "Gender               0\n",
       "Married              0\n",
       "Dependents           0\n",
       "Education            0\n",
       "Self_Employed        0\n",
       "ApplicantIncome      0\n",
       "CoapplicantIncome    0\n",
       "LoanAmount           0\n",
       "Loan_Amount_Term     0\n",
       "Credit_History       0\n",
       "Property_Area        0\n",
       "dtype: int64"
      ]
     },
     "execution_count": 42,
     "metadata": {},
     "output_type": "execute_result"
    }
   ],
   "source": [
    "test.isnull().sum()"
   ]
  },
  {
   "cell_type": "markdown",
   "id": "ddabdd25",
   "metadata": {},
   "source": [
    "## Outliers Treatment\n",
    "> one way to remove skewness is by doing log transformation.\\\n",
    ">log does not affect smaller values much but it reduces the larger values"
   ]
  },
  {
   "cell_type": "code",
   "execution_count": 43,
   "id": "298783f1",
   "metadata": {},
   "outputs": [
    {
     "data": {
      "image/png": "[encoded data removed]",
      "text/plain": [
       "<Figure size 432x288 with 1 Axes>"
      ]
     },
     "metadata": {
      "needs_background": "light"
     },
     "output_type": "display_data"
    }
   ],
   "source": [
    "train['LoanAmount_log'] = np.log(train['LoanAmount'])\n",
    "train['LoanAmount_log'].hist(bins=20)\n",
    "test['LoanAmount_log']= np.log(test['LoanAmount'])"
   ]
  },
  {
   "cell_type": "code",
   "execution_count": null,
   "id": "7c5f1e16",
   "metadata": {},
   "outputs": [],
   "source": []
  },
  {
   "cell_type": "code",
   "execution_count": 44,
   "id": "2bb43b00",
   "metadata": {},
   "outputs": [],
   "source": [
    "# drop loan id as it does not affects loan status\n",
    "\n",
    "train = train.drop(columns=['Loan_ID'])\n"
   ]
  },
  {
   "cell_type": "code",
   "execution_count": 45,
   "id": "adc219c3",
   "metadata": {},
   "outputs": [],
   "source": [
    "test = test.drop('Loan_ID',axis=1)"
   ]
  },
  {
   "cell_type": "markdown",
   "id": "4be49fca",
   "metadata": {},
   "source": [
    "# gettting dummy variables\n"
   ]
  },
  {
   "cell_type": "code",
   "execution_count": 46,
   "id": "e69b82af",
   "metadata": {},
   "outputs": [],
   "source": [
    "X = train.drop('Loan_Status' , axis=1)\n",
    "y = train.Loan_Status"
   ]
  },
  {
   "cell_type": "code",
   "execution_count": 47,
   "id": "f14d1752",
   "metadata": {},
   "outputs": [],
   "source": [
    "X = pd.get_dummies(X)\n",
    "train=pd.get_dummies(train)\n",
    "test = pd.get_dummies(test)\n"
   ]
  },
  {
   "cell_type": "code",
   "execution_count": 48,
   "id": "cd3ef580",
   "metadata": {},
   "outputs": [],
   "source": [
    " #we divide our train dataset into two parts: train and valdation\n",
    "# we train model on train  part uising that make prediction for validation part"
   ]
  },
  {
   "cell_type": "code",
   "execution_count": 49,
   "id": "7fc1202a",
   "metadata": {},
   "outputs": [],
   "source": [
    "from sklearn.model_selection import train_test_split "
   ]
  },
  {
   "cell_type": "code",
   "execution_count": 50,
   "id": "3a3b41ca",
   "metadata": {},
   "outputs": [],
   "source": [
    "x_train,x_cv,y_train,y_cv = train_test_split(X,y,test_size=.3)"
   ]
  },
  {
   "cell_type": "code",
   "execution_count": 51,
   "id": "5445240d",
   "metadata": {},
   "outputs": [],
   "source": [
    "from sklearn.linear_model import LogisticRegression\n",
    "from sklearn.metrics import accuracy_score"
   ]
  },
  {
   "cell_type": "code",
   "execution_count": 52,
   "id": "40e16bdc",
   "metadata": {},
   "outputs": [],
   "source": [
    "log_regr = LogisticRegression()"
   ]
  },
  {
   "cell_type": "code",
   "execution_count": 53,
   "id": "81722bd8",
   "metadata": {},
   "outputs": [
    {
     "data": {
      "text/plain": [
       "LogisticRegression()"
      ]
     },
     "execution_count": 53,
     "metadata": {},
     "output_type": "execute_result"
    }
   ],
   "source": [
    "log_regr.fit(x_train,y_train)"
   ]
  },
  {
   "cell_type": "code",
   "execution_count": 54,
   "id": "ac273a94",
   "metadata": {},
   "outputs": [],
   "source": [
    "# Loan status for validdation set (y- predict)\n",
    "pred_cv = log_regr.predict(x_cv)"
   ]
  },
  {
   "cell_type": "code",
   "execution_count": 55,
   "id": "6963421b",
   "metadata": {},
   "outputs": [
    {
     "data": {
      "text/plain": [
       "0.8054054054054054"
      ]
     },
     "execution_count": 55,
     "metadata": {},
     "output_type": "execute_result"
    }
   ],
   "source": [
    "# accuracy of our prediction\n",
    "accuracy_score(y_cv,pred_cv)"
   ]
  },
  {
   "cell_type": "code",
   "execution_count": 56,
   "id": "787522de",
   "metadata": {},
   "outputs": [],
   "source": [
    "# our prediction is almost 78% accurate"
   ]
  },
  {
   "cell_type": "code",
   "execution_count": 57,
   "id": "1f9cdbdb",
   "metadata": {},
   "outputs": [],
   "source": [
    "## prediction for test dataset"
   ]
  },
  {
   "cell_type": "code",
   "execution_count": 58,
   "id": "df311f67",
   "metadata": {},
   "outputs": [],
   "source": [
    "pred_test = log_regr.predict(test)"
   ]
  },
  {
   "cell_type": "code",
   "execution_count": 59,
   "id": "7828ad3b",
   "metadata": {},
   "outputs": [],
   "source": [
    "#import submission file which we have to submit on solution checker\n",
    "submission = pd.read_csv('sample_submission_49d68Cx.csv')\n"
   ]
  },
  {
   "cell_type": "code",
   "execution_count": 60,
   "id": "a6ede5ed",
   "metadata": {},
   "outputs": [],
   "source": [
    "submission['Loan_Status']= pred_test\n",
    "submission['Loan_ID']= test_original['Loan_ID']"
   ]
  },
  {
   "cell_type": "code",
   "execution_count": 61,
   "id": "7a3a3e99",
   "metadata": {},
   "outputs": [],
   "source": [
    "# we need prediction in Y and N so lets convert 1 & 0 \n",
    "\n",
    "submission['Loan_Status'].replace(0,'N', inplace=True)\n",
    "submission['Loan_Status'].replace(1,'Y', inplace=True)"
   ]
  },
  {
   "cell_type": "code",
   "execution_count": 62,
   "id": "6dd36d20",
   "metadata": {},
   "outputs": [],
   "source": [
    "# finally we convert submission to .csv\n",
    "pd.DataFrame(submission , columns=['Loan_ID','Loan_Status']).to_csv('LoanPredlogistic.csv')"
   ]
  },
  {
   "cell_type": "code",
   "execution_count": 63,
   "id": "a6dfe426",
   "metadata": {},
   "outputs": [],
   "source": [
    "## logistic regression using liblinear as solver\n",
    "\n",
    "logr_liblinear= LogisticRegression(verbose=1, solver='liblinear')"
   ]
  },
  {
   "cell_type": "code",
   "execution_count": 64,
   "id": "626fd76c",
   "metadata": {},
   "outputs": [
    {
     "name": "stdout",
     "output_type": "stream",
     "text": [
      "[LibLinear]"
     ]
    },
    {
     "data": {
      "text/plain": [
       "LogisticRegression(solver='liblinear', verbose=1)"
      ]
     },
     "execution_count": 64,
     "metadata": {},
     "output_type": "execute_result"
    }
   ],
   "source": [
    "logr_liblinear.fit(x_train,y_train)"
   ]
  },
  {
   "cell_type": "code",
   "execution_count": 65,
   "id": "4012be4d",
   "metadata": {},
   "outputs": [],
   "source": [
    "pred_cv_liblinear = logr_liblinear.predict(x_cv) "
   ]
  },
  {
   "cell_type": "code",
   "execution_count": 66,
   "id": "74c8ef63",
   "metadata": {},
   "outputs": [],
   "source": [
    "from sklearn.metrics import confusion_matrix"
   ]
  },
  {
   "cell_type": "code",
   "execution_count": 67,
   "id": "b888e934",
   "metadata": {},
   "outputs": [
    {
     "data": {
      "text/plain": [
       "array([[ 26,  30],\n",
       "       [  1, 128]], dtype=int64)"
      ]
     },
     "execution_count": 67,
     "metadata": {},
     "output_type": "execute_result"
    }
   ],
   "source": [
    "confusion_matrix(y_cv , pred_cv_liblinear)"
   ]
  },
  {
   "cell_type": "code",
   "execution_count": 68,
   "id": "e3b9681a",
   "metadata": {},
   "outputs": [
    {
     "data": {
      "text/plain": [
       "0.8324324324324325"
      ]
     },
     "execution_count": 68,
     "metadata": {},
     "output_type": "execute_result"
    }
   ],
   "source": [
    "accuracy_score(y_cv , pred_cv_liblinear)"
   ]
  },
  {
   "cell_type": "code",
   "execution_count": 69,
   "id": "e11f15cb",
   "metadata": {},
   "outputs": [],
   "source": [
    "from sklearn.metrics import roc_auc_score\n",
    "from sklearn.metrics import roc_curve"
   ]
  },
  {
   "cell_type": "code",
   "execution_count": 70,
   "id": "ce3e5deb",
   "metadata": {},
   "outputs": [],
   "source": [
    "auc = roc_auc_score(y_cv, pred_cv_liblinear)\n",
    "fpr , tpr , thresholds =roc_curve(y_cv, pred_cv_liblinear)"
   ]
  },
  {
   "cell_type": "code",
   "execution_count": 71,
   "id": "693f8d0c",
   "metadata": {},
   "outputs": [
    {
     "data": {
      "image/png": "[encoded data removed]",
      "text/plain": [
       "<Figure size 432x288 with 1 Axes>"
      ]
     },
     "metadata": {
      "needs_background": "light"
     },
     "output_type": "display_data"
    }
   ],
   "source": [
    "plt.plot(fpr ,tpr ,color ='red' , label = 'ROC')\n",
    "plt.plot([0,1],[0,1], color = 'darkblue', linestyle = '--', label ='ROC curve(area =%0.2f)' % auc)\n",
    "plt.xlabel('False positive Rate')\n",
    "plt.ylabel('True Positive rate')\n",
    "plt.title('ROC- Reciever operating characteristic curve')\n",
    "plt.legend()\n",
    "plt.show()"
   ]
  },
  {
   "cell_type": "markdown",
   "id": "0b0a92b4",
   "metadata": {},
   "source": [
    "## stratified k fold cross validation"
   ]
  },
  {
   "cell_type": "code",
   "execution_count": 72,
   "id": "f34d6038",
   "metadata": {},
   "outputs": [
    {
     "name": "stdout",
     "output_type": "stream",
     "text": [
      "Train: [  0   1   2   4   6   8   9  10  11  13  14  15  16  17  18  19  20  21\n",
      "  22  24  25  26  27  32  33  34  35  37  38  40  41  42  43  44  45  46\n",
      "  47  48  49  50  51  52  53  54  55  56  57  59  60  61  62  63  64  65\n",
      "  67  68  69  70  71  72  73  74  75  76  77  78  79  80  81  84  86  87\n",
      "  88  90  91  92  93  94  95  97  99 100 102 103 105 106 107 108 111 113\n",
      " 114 115 116 117 118 119 120 121 122 124 125 126 127 128 129 130 131 132\n",
      " 134 135 136 137 138 139 140 141 142 143 145 146 147 148 149 150 151 152\n",
      " 153 154 156 158 160 162 163 164 166 167 168 169 170 171 173 174 175 176\n",
      " 178 179 180 181 182 184 185 186 187 188 190 191 192 193 195 196 197 199\n",
      " 201 202 203 204 205 206 207 210 211 212 214 215 216 217 218 219 220 221\n",
      " 222 223 224 225 226 227 228 229 230 231 233 234 235 236 237 238 240 241\n",
      " 243 245 246 248 249 250 251 252 253 256 257 258 259 260 262 263 264 265\n",
      " 266 267 268 269 270 271 272 274 275 276 277 278 279 280 281 282 283 284\n",
      " 285 286 287 288 289 290 291 294 295 296 298 299 300 301 302 303 305 306\n",
      " 307 308 309 310 312 313 314 315 316 317 318 319 320 322 323 325 327 329\n",
      " 330 331 332 333 336 339 340 341 343 345 346 347 348 350 351 352 355 358\n",
      " 359 360 361 363 365 366 367 368 370 371 372 373 374 376 377 378 379 381\n",
      " 382 383 384 386 387 388 389 390 391 392 393 394 395 397 399 400 401 402\n",
      " 403 404 405 406 407 408 409 411 412 413 415 417 418 419 420 423 424 425\n",
      " 426 427 428 429 430 431 432 433 434 436 437 439 440 441 442 443 445 446\n",
      " 448 449 450 451 453 455 456 457 459 460 462 464 465 466 468 469 470 471\n",
      " 472 473 476 477 478 479 480 481 482 483 484 485 486 487 488 491 492 493\n",
      " 494 495 496 497 498 499 500 501 502 505 506 507 508 509 511 512 513 514\n",
      " 515 516 518 519 520 521 522 524 525 528 529 530 531 532 533 537 538 540\n",
      " 541 543 545 546 547 548 549 550 551 552 553 554 555 556 557 559 561 562\n",
      " 564 565 566 567 568 570 571 572 573 574 575 576 579 580 581 582 585 586\n",
      " 587 588 589 590 591 592 593 594 595 597 598 600 601 602 603 604 605 606\n",
      " 607 608 610 611 613] Validation: [  3   5   7  12  23  28  29  30  31  36  39  58  66  82  83  85  89  96\n",
      "  98 101 104 109 110 112 123 133 144 155 157 159 161 165 172 177 183 189\n",
      " 194 198 200 208 209 213 232 239 242 244 247 254 255 261 273 292 293 297\n",
      " 304 311 321 324 326 328 334 335 337 338 342 344 349 353 354 356 357 362\n",
      " 364 369 375 380 385 396 398 410 414 416 421 422 435 438 444 447 452 454\n",
      " 458 461 463 467 474 475 489 490 503 504 510 517 523 526 527 534 535 536\n",
      " 539 542 544 558 560 563 569 577 578 583 584 596 599 609 612]\n",
      "[LibLinear]Train: [  0   1   3   4   5   6   7   8  10  11  12  15  16  19  20  22  23  24\n",
      "  25  26  27  28  29  30  31  32  33  34  35  36  37  38  39  40  41  42\n",
      "  43  44  45  46  47  48  49  50  51  52  55  56  57  58  59  60  62  63\n",
      "  64  66  70  71  73  74  75  76  77  78  79  81  82  83  84  85  86  87\n",
      "  89  90  91  92  94  95  96  97  98 100 101 102 104 105 106 107 108 109\n",
      " 110 111 112 113 116 117 118 119 120 122 123 124 125 126 128 129 130 131\n",
      " 132 133 134 135 136 137 138 139 140 142 143 144 146 150 151 152 154 155\n",
      " 156 157 158 159 160 161 163 165 166 167 169 170 171 172 174 175 176 177\n",
      " 178 179 181 182 183 184 185 186 187 188 189 190 191 193 194 195 197 198\n",
      " 199 200 201 202 204 206 208 209 210 213 214 215 217 218 219 220 221 222\n",
      " 223 224 225 226 227 231 232 233 234 236 239 241 242 243 244 245 246 247\n",
      " 249 250 251 252 253 254 255 256 257 259 260 261 262 264 267 269 270 272\n",
      " 273 275 276 277 278 279 281 282 283 284 285 286 287 289 292 293 294 296\n",
      " 297 298 300 302 304 305 308 310 311 312 314 315 316 318 319 321 322 323\n",
      " 324 325 326 327 328 330 331 332 333 334 335 336 337 338 339 340 341 342\n",
      " 343 344 345 346 347 348 349 350 352 353 354 355 356 357 360 362 363 364\n",
      " 366 367 368 369 370 371 372 373 374 375 376 377 378 379 380 381 382 385\n",
      " 386 387 388 391 392 393 394 395 396 397 398 399 400 402 403 404 405 406\n",
      " 409 410 412 413 414 416 417 418 419 420 421 422 423 424 425 426 427 428\n",
      " 429 431 432 434 435 437 438 441 443 444 445 447 448 450 451 452 453 454\n",
      " 455 456 457 458 459 460 461 462 463 465 466 467 468 469 470 473 474 475\n",
      " 476 478 479 480 481 482 484 485 487 488 489 490 491 492 494 495 497 498\n",
      " 499 500 503 504 505 507 508 510 511 512 514 515 517 518 519 521 522 523\n",
      " 524 525 526 527 528 530 531 532 533 534 535 536 537 538 539 540 541 542\n",
      " 543 544 548 549 550 551 552 554 555 556 557 558 559 560 561 562 563 564\n",
      " 567 568 569 570 571 572 574 575 576 577 578 579 581 582 583 584 585 586\n",
      " 587 588 589 590 591 592 593 594 595 596 598 599 600 603 605 606 607 608\n",
      " 609 610 611 612 613] Validation: [  2   9  13  14  17  18  21  53  54  61  65  67  68  69  72  80  88  93\n",
      "  99 103 114 115 121 127 141 145 147 148 149 153 162 164 168 173 180 192\n",
      " 196 203 205 207 211 212 216 228 229 230 235 237 238 240 248 258 263 265\n",
      " 266 268 271 274 280 288 290 291 295 299 301 303 306 307 309 313 317 320\n",
      " 329 351 358 359 361 365 383 384 389 390 401 407 408 411 415 430 433 436\n",
      " 439 440 442 446 449 464 471 472 477 483 486 493 496 501 502 506 509 513\n",
      " 516 520 529 545 546 547 553 565 566 573 580 597 601 602 604]\n",
      "[LibLinear]Train: [  0   1   2   3   5   7   9  10  11  12  13  14  16  17  18  19  21  23\n",
      "  24  27  28  29  30  31  32  35  36  37  39  40  41  42  43  44  45  48\n",
      "  49  50  51  53  54  55  56  58  59  61  63  64  65  66  67  68  69  70\n",
      "  71  72  73  74  75  76  77  79  80  81  82  83  84  85  86  88  89  90\n",
      "  92  93  94  95  96  97  98  99 101 102 103 104 107 108 109 110 111 112\n",
      " 114 115 116 117 118 119 121 122 123 124 127 130 131 133 134 135 136 137\n",
      " 138 141 142 143 144 145 147 148 149 150 151 153 154 155 156 157 158 159\n",
      " 161 162 163 164 165 167 168 170 172 173 174 175 177 178 179 180 181 182\n",
      " 183 185 186 187 188 189 190 191 192 194 195 196 197 198 199 200 201 202\n",
      " 203 205 206 207 208 209 211 212 213 214 215 216 217 218 219 222 223 224\n",
      " 227 228 229 230 231 232 233 234 235 237 238 239 240 241 242 244 247 248\n",
      " 249 251 253 254 255 256 257 258 259 260 261 263 264 265 266 267 268 270\n",
      " 271 273 274 275 278 279 280 281 282 283 285 286 287 288 290 291 292 293\n",
      " 295 297 298 299 300 301 302 303 304 306 307 308 309 310 311 312 313 314\n",
      " 315 317 318 319 320 321 322 323 324 325 326 328 329 330 331 332 334 335\n",
      " 336 337 338 339 340 341 342 343 344 345 346 347 348 349 351 352 353 354\n",
      " 355 356 357 358 359 361 362 364 365 367 368 369 370 371 374 375 378 379\n",
      " 380 383 384 385 387 389 390 392 393 394 396 398 400 401 402 403 405 407\n",
      " 408 409 410 411 412 413 414 415 416 417 418 420 421 422 423 426 429 430\n",
      " 433 434 435 436 438 439 440 442 443 444 445 446 447 448 449 450 452 454\n",
      " 455 456 457 458 459 460 461 462 463 464 467 468 470 471 472 473 474 475\n",
      " 476 477 479 480 481 483 484 485 486 487 489 490 492 493 494 496 497 498\n",
      " 499 500 501 502 503 504 505 506 508 509 510 512 513 515 516 517 518 520\n",
      " 521 523 524 526 527 528 529 530 531 532 533 534 535 536 537 538 539 540\n",
      " 541 542 543 544 545 546 547 549 550 552 553 554 556 557 558 559 560 561\n",
      " 562 563 565 566 568 569 570 571 573 574 576 577 578 579 580 581 583 584\n",
      " 586 587 588 589 590 591 592 594 595 596 597 599 600 601 602 603 604 605\n",
      " 607 608 609 610 612] Validation: [  4   6   8  15  20  22  25  26  33  34  38  46  47  52  57  60  62  78\n",
      "  87  91 100 105 106 113 120 125 126 128 129 132 139 140 146 152 160 166\n",
      " 169 171 176 184 193 204 210 220 221 225 226 236 243 245 246 250 252 262\n",
      " 269 272 276 277 284 289 294 296 305 316 327 333 350 360 363 366 372 373\n",
      " 376 377 381 382 386 388 391 395 397 399 404 406 419 424 425 427 428 431\n",
      " 432 437 441 451 453 465 466 469 478 482 488 491 495 507 511 514 519 522\n",
      " 525 548 551 555 564 567 572 575 582 585 593 598 606 611 613]\n",
      "[LibLinear]Train: [  0   2   3   4   5   6   7   8   9  10  12  13  14  15  17  18  19  20\n",
      "  21  22  23  24  25  26  28  29  30  31  33  34  36  37  38  39  43  44\n",
      "  45  46  47  50  52  53  54  55  57  58  59  60  61  62  65  66  67  68\n",
      "  69  70  71  72  73  75  78  79  80  82  83  85  87  88  89  90  91  93\n",
      "  94  95  96  97  98  99 100 101 103 104 105 106 107 108 109 110 112 113\n",
      " 114 115 117 118 119 120 121 123 124 125 126 127 128 129 130 131 132 133\n",
      " 134 135 138 139 140 141 144 145 146 147 148 149 150 151 152 153 155 157\n",
      " 158 159 160 161 162 163 164 165 166 167 168 169 170 171 172 173 174 175\n",
      " 176 177 179 180 181 182 183 184 185 186 189 190 191 192 193 194 195 196\n",
      " 198 199 200 201 202 203 204 205 207 208 209 210 211 212 213 215 216 218\n",
      " 220 221 222 224 225 226 227 228 229 230 232 235 236 237 238 239 240 241\n",
      " 242 243 244 245 246 247 248 250 251 252 253 254 255 256 257 258 259 261\n",
      " 262 263 264 265 266 268 269 270 271 272 273 274 275 276 277 279 280 282\n",
      " 284 285 287 288 289 290 291 292 293 294 295 296 297 298 299 301 302 303\n",
      " 304 305 306 307 309 310 311 313 316 317 318 320 321 322 324 326 327 328\n",
      " 329 330 331 333 334 335 337 338 339 342 344 345 348 349 350 351 352 353\n",
      " 354 355 356 357 358 359 360 361 362 363 364 365 366 369 370 372 373 374\n",
      " 375 376 377 380 381 382 383 384 385 386 387 388 389 390 391 392 393 395\n",
      " 396 397 398 399 400 401 404 406 407 408 410 411 414 415 416 417 418 419\n",
      " 420 421 422 424 425 426 427 428 429 430 431 432 433 435 436 437 438 439\n",
      " 440 441 442 443 444 446 447 449 451 452 453 454 457 458 460 461 462 463\n",
      " 464 465 466 467 469 470 471 472 473 474 475 477 478 482 483 484 486 487\n",
      " 488 489 490 491 492 493 494 495 496 497 501 502 503 504 505 506 507 509\n",
      " 510 511 513 514 515 516 517 518 519 520 522 523 525 526 527 529 533 534\n",
      " 535 536 539 540 541 542 543 544 545 546 547 548 549 551 553 554 555 557\n",
      " 558 560 563 564 565 566 567 569 570 572 573 574 575 576 577 578 579 580\n",
      " 582 583 584 585 586 587 588 593 595 596 597 598 599 601 602 604 606 607\n",
      " 609 610 611 612 613] Validation: [  1  11  16  27  32  35  40  41  42  48  49  51  56  63  64  74  76  77\n",
      "  81  84  86  92 102 111 116 122 136 137 142 143 154 156 178 187 188 197\n",
      " 206 214 217 219 223 231 233 234 249 260 267 278 281 283 286 300 308 312\n",
      " 314 315 319 323 325 332 336 340 341 343 346 347 367 368 371 378 379 394\n",
      " 402 403 405 409 412 413 423 434 445 448 450 455 456 459 468 476 479 480\n",
      " 481 485 498 499 500 508 512 521 524 528 530 531 532 537 538 550 552 556\n",
      " 559 561 562 568 571 581 589 590 591 592 594 600 603 605 608]\n",
      "[LibLinear]Train: [  1   2   3   4   5   6   7   8   9  11  12  13  14  15  16  17  18  20\n",
      "  21  22  23  25  26  27  28  29  30  31  32  33  34  35  36  38  39  40\n",
      "  41  42  46  47  48  49  51  52  53  54  56  57  58  60  61  62  63  64\n",
      "  65  66  67  68  69  72  74  76  77  78  80  81  82  83  84  85  86  87\n",
      "  88  89  91  92  93  96  98  99 100 101 102 103 104 105 106 109 110 111\n",
      " 112 113 114 115 116 120 121 122 123 125 126 127 128 129 132 133 136 137\n",
      " 139 140 141 142 143 144 145 146 147 148 149 152 153 154 155 156 157 159\n",
      " 160 161 162 164 165 166 168 169 171 172 173 176 177 178 180 183 184 187\n",
      " 188 189 192 193 194 196 197 198 200 203 204 205 206 207 208 209 210 211\n",
      " 212 213 214 216 217 219 220 221 223 225 226 228 229 230 231 232 233 234\n",
      " 235 236 237 238 239 240 242 243 244 245 246 247 248 249 250 252 254 255\n",
      " 258 260 261 262 263 265 266 267 268 269 271 272 273 274 276 277 278 280\n",
      " 281 283 284 286 288 289 290 291 292 293 294 295 296 297 299 300 301 303\n",
      " 304 305 306 307 308 309 311 312 313 314 315 316 317 319 320 321 323 324\n",
      " 325 326 327 328 329 332 333 334 335 336 337 338 340 341 342 343 344 346\n",
      " 347 349 350 351 353 354 356 357 358 359 360 361 362 363 364 365 366 367\n",
      " 368 369 371 372 373 375 376 377 378 379 380 381 382 383 384 385 386 388\n",
      " 389 390 391 394 395 396 397 398 399 401 402 403 404 405 406 407 408 409\n",
      " 410 411 412 413 414 415 416 419 421 422 423 424 425 427 428 430 431 432\n",
      " 433 434 435 436 437 438 439 440 441 442 444 445 446 447 448 449 450 451\n",
      " 452 453 454 455 456 458 459 461 463 464 465 466 467 468 469 471 472 474\n",
      " 475 476 477 478 479 480 481 482 483 485 486 488 489 490 491 493 495 496\n",
      " 498 499 500 501 502 503 504 506 507 508 509 510 511 512 513 514 516 517\n",
      " 519 520 521 522 523 524 525 526 527 528 529 530 531 532 534 535 536 537\n",
      " 538 539 542 544 545 546 547 548 550 551 552 553 555 556 558 559 560 561\n",
      " 562 563 564 565 566 567 568 569 571 572 573 575 577 578 580 581 582 583\n",
      " 584 585 589 590 591 592 593 594 596 597 598 599 600 601 602 603 604 605\n",
      " 606 608 609 611 612 613] Validation: [  0  10  19  24  37  43  44  45  50  55  59  70  71  73  75  79  90  94\n",
      "  95  97 107 108 117 118 119 124 130 131 134 135 138 150 151 158 163 167\n",
      " 170 174 175 179 181 182 185 186 190 191 195 199 201 202 215 218 222 224\n",
      " 227 241 251 253 256 257 259 264 270 275 279 282 285 287 298 302 310 318\n",
      " 322 330 331 339 345 348 352 355 370 374 387 392 393 400 417 418 420 426\n",
      " 429 443 457 460 462 470 473 484 487 492 494 497 505 515 518 533 540 541\n",
      " 543 549 554 557 570 574 576 579 586 587 588 595 607 610]\n",
      "[LibLinear][0.8130081300813008, 0.8373983739837398, 0.7967479674796748, 0.8211382113821138, 0.7950819672131147]\n"
     ]
    }
   ],
   "source": [
    "from sklearn.model_selection import StratifiedKFold\n",
    "\n",
    "accuracy =[]\n",
    "\n",
    "skf = StratifiedKFold(n_splits=5 , random_state=1 , shuffle=True )\n",
    "skf.get_n_splits(X,y)\n",
    "\n",
    "for train_index , test_index in skf.split(X,y):\n",
    "    print('Train:', train_index , 'Validation:', test_index)\n",
    "    xtr,xvl = X.iloc[train_index], X.iloc[test_index]\n",
    "    ytr , yvl = y.iloc[train_index], y.iloc[test_index]\n",
    "    \n",
    "    logr_liblinear.fit(xtr ,ytr)\n",
    "    prediction =logr_liblinear.predict(xvl)# y-pred\n",
    "    score = accuracy_score( yvl , prediction)\n",
    "    accuracy.append(score)\n",
    "    \n",
    "    \n",
    "print(accuracy)\n",
    "    \n",
    "    \n",
    "    \n",
    "    \n"
   ]
  },
  {
   "cell_type": "code",
   "execution_count": 73,
   "id": "57d9eb63",
   "metadata": {},
   "outputs": [
    {
     "data": {
      "text/plain": [
       "0.8126749300279889"
      ]
     },
     "execution_count": 73,
     "metadata": {},
     "output_type": "execute_result"
    }
   ],
   "source": [
    "np.array(accuracy).mean()"
   ]
  },
  {
   "cell_type": "code",
   "execution_count": 74,
   "id": "873f9e40",
   "metadata": {},
   "outputs": [],
   "source": [
    "# mean validation accuracy for this model is 81%\n",
    "\n",
    "# lets visualise ROC curve"
   ]
  },
  {
   "cell_type": "code",
   "execution_count": 75,
   "id": "f3f53829",
   "metadata": {},
   "outputs": [],
   "source": [
    "AUC = roc_auc_score(yvl, prediction)\n",
    "FPR , TPR , Thresholds =roc_curve(yvl, prediction)\n"
   ]
  },
  {
   "cell_type": "code",
   "execution_count": 76,
   "id": "f4bff994",
   "metadata": {},
   "outputs": [
    {
     "data": {
      "image/png": "[encoded data removed]",
      "text/plain": [
       "<Figure size 432x288 with 1 Axes>"
      ]
     },
     "metadata": {
      "needs_background": "light"
     },
     "output_type": "display_data"
    }
   ],
   "source": [
    "plt.plot(FPR ,TPR ,color ='blue' , label ='validation, AUC='+str(AUC))\n",
    "#plt.plot([ color = 'darkblue', linestyle = '--')\n",
    "plt.xlabel('False positive Rate')\n",
    "plt.ylabel('True Positive rate')\n",
    "plt.title('ROC- Reciever operating characteristic curve')\n",
    "plt.legend(loc=4)\n",
    "plt.show()"
   ]
  },
  {
   "cell_type": "code",
   "execution_count": 77,
   "id": "9b5dbe25",
   "metadata": {},
   "outputs": [],
   "source": [
    "## lets try to improve accuracy using different approaches"
   ]
  },
  {
   "cell_type": "markdown",
   "id": "1b10c18d",
   "metadata": {},
   "source": [
    "### Feature Enginnering\n",
    "> Based on domain Knowledge we can come up with new features\\\n",
    "> total income - combine applicant income and coapplicant income.\\\n",
    "> EMI - we can calculate  EMI by taking ratio of loan amount with respect to loan amount term\\"
   ]
  },
  {
   "cell_type": "code",
   "execution_count": 78,
   "id": "5779ba3d",
   "metadata": {},
   "outputs": [],
   "source": [
    "train['Total_income']= train['ApplicantIncome']+train['CoapplicantIncome']\n",
    "\n",
    "test['Total_income']= test['ApplicantIncome']+test['CoapplicantIncome']"
   ]
  },
  {
   "cell_type": "code",
   "execution_count": 79,
   "id": "48d37143",
   "metadata": {},
   "outputs": [
    {
     "data": {
      "text/plain": [
       "<AxesSubplot:xlabel='Total_income', ylabel='Density'>"
      ]
     },
     "execution_count": 79,
     "metadata": {},
     "output_type": "execute_result"
    },
    {
     "data": {
      "image/png": "[encoded data removed]",
      "text/plain": [
       "<Figure size 432x288 with 1 Axes>"
      ]
     },
     "metadata": {
      "needs_background": "light"
     },
     "output_type": "display_data"
    }
   ],
   "source": [
    "# distribution of total income\n",
    "sns.distplot(train['Total_income'])"
   ]
  },
  {
   "cell_type": "code",
   "execution_count": 80,
   "id": "49c11374",
   "metadata": {},
   "outputs": [],
   "source": [
    "## we can see that it is shifted toward left ie. distribution is right skewed.\n",
    "# take a log transformation to make the distribution normal."
   ]
  },
  {
   "cell_type": "code",
   "execution_count": 81,
   "id": "15f9db75",
   "metadata": {},
   "outputs": [
    {
     "data": {
      "image/png": "[encoded data removed]",
      "text/plain": [
       "<Figure size 432x288 with 1 Axes>"
      ]
     },
     "metadata": {
      "needs_background": "light"
     },
     "output_type": "display_data"
    }
   ],
   "source": [
    "train['Total_Income_log']=np.log(train['Total_income'])\n",
    "sns.distplot(train['Total_Income_log'])\n",
    "test['Total_Income_log']=np.log(test['Total_income'])"
   ]
  },
  {
   "cell_type": "code",
   "execution_count": 82,
   "id": "49fecab0",
   "metadata": {},
   "outputs": [],
   "source": [
    "train['EMI']= train['LoanAmount']/train['Loan_Amount_Term']\n",
    "test['EMI']=test['LoanAmount']/test['Loan_Amount_Term']"
   ]
  },
  {
   "cell_type": "code",
   "execution_count": 83,
   "id": "626e00ac",
   "metadata": {},
   "outputs": [
    {
     "data": {
      "text/plain": [
       "<AxesSubplot:xlabel='EMI', ylabel='Density'>"
      ]
     },
     "execution_count": 83,
     "metadata": {},
     "output_type": "execute_result"
    },
    {
     "data": {
      "image/png": "[encoded data removed]",
      "text/plain": [
       "<Figure size 432x288 with 1 Axes>"
      ]
     },
     "metadata": {
      "needs_background": "light"
     },
     "output_type": "display_data"
    }
   ],
   "source": [
    "sns.distplot(train['EMI'])"
   ]
  },
  {
   "cell_type": "code",
   "execution_count": 84,
   "id": "5bada2cd",
   "metadata": {},
   "outputs": [
    {
     "data": {
      "text/plain": [
       "<AxesSubplot:xlabel='Balance Income', ylabel='Density'>"
      ]
     },
     "execution_count": 84,
     "metadata": {},
     "output_type": "execute_result"
    },
    {
     "data": {
      "image/png": "[encoded data removed]",
      "text/plain": [
       "<Figure size 432x288 with 1 Axes>"
      ]
     },
     "metadata": {
      "needs_background": "light"
     },
     "output_type": "display_data"
    }
   ],
   "source": [
    "# create balance income feature and its ditribution\n",
    "train['Balance Income']=train['Total_income']-(train['EMI']*1000)\n",
    "test['Balance Income']= test['Total_income']-(test['EMI']*1000)\n",
    "\n",
    "# multiply with 1000 to make unit equal\n",
    "\n",
    "sns.distplot(train['Balance Income'])"
   ]
  },
  {
   "cell_type": "code",
   "execution_count": 85,
   "id": "399d410b",
   "metadata": {},
   "outputs": [],
   "source": [
    "# drop the variables which we used to create these new features.\n",
    "# bcz correlation bt old features and new features will be very high.\n",
    "# we also want to remove noise from the dataset"
   ]
  },
  {
   "cell_type": "code",
   "execution_count": 86,
   "id": "573c19ac",
   "metadata": {},
   "outputs": [],
   "source": [
    "train = train.drop(['ApplicantIncome' , 'CoapplicantIncome' , 'LoanAmount','Loan_Amount_Term'],axis=1)"
   ]
  },
  {
   "cell_type": "code",
   "execution_count": 87,
   "id": "906d6574",
   "metadata": {},
   "outputs": [],
   "source": [
    "test = test.drop(['ApplicantIncome' , 'CoapplicantIncome' , 'LoanAmount','Loan_Amount_Term'],axis=1)"
   ]
  },
  {
   "cell_type": "code",
   "execution_count": null,
   "id": "8055ace0",
   "metadata": {},
   "outputs": [],
   "source": []
  },
  {
   "cell_type": "code",
   "execution_count": 88,
   "id": "c8a4e240",
   "metadata": {},
   "outputs": [],
   "source": [
    "from sklearn.ensemble import RandomForestClassifier"
   ]
  },
  {
   "cell_type": "code",
   "execution_count": 89,
   "id": "13cd7825",
   "metadata": {},
   "outputs": [],
   "source": [
    "X = train.drop('Loan_Status',1)"
   ]
  },
  {
   "cell_type": "code",
   "execution_count": 90,
   "id": "5f84bdb0",
   "metadata": {},
   "outputs": [],
   "source": [
    "y = train.Loan_Status  # target variable"
   ]
  },
  {
   "cell_type": "markdown",
   "id": "af88107f",
   "metadata": {},
   "source": [
    "## Logistic regression model"
   ]
  },
  {
   "cell_type": "code",
   "execution_count": 135,
   "id": "a74f6c27",
   "metadata": {},
   "outputs": [],
   "source": [
    "# Logistic Regression(Lr)\n",
    "Lr = LogisticRegression(random_state=1 , solver='liblinear')"
   ]
  },
  {
   "cell_type": "code",
   "execution_count": 136,
   "id": "e86cea8b",
   "metadata": {},
   "outputs": [
    {
     "name": "stdout",
     "output_type": "stream",
     "text": [
      "Train: [  0   1   2   4   6   8   9  10  11  13  14  15  16  17  18  19  20  21\n",
      "  22  24  25  26  27  32  33  34  35  37  38  40  41  42  43  44  45  46\n",
      "  47  48  49  50  51  52  53  54  55  56  57  59  60  61  62  63  64  65\n",
      "  67  68  69  70  71  72  73  74  75  76  77  78  79  80  81  84  86  87\n",
      "  88  90  91  92  93  94  95  97  99 100 102 103 105 106 107 108 111 113\n",
      " 114 115 116 117 118 119 120 121 122 124 125 126 127 128 129 130 131 132\n",
      " 134 135 136 137 138 139 140 141 142 143 145 146 147 148 149 150 151 152\n",
      " 153 154 156 158 160 162 163 164 166 167 168 169 170 171 173 174 175 176\n",
      " 178 179 180 181 182 184 185 186 187 188 190 191 192 193 195 196 197 199\n",
      " 201 202 203 204 205 206 207 210 211 212 214 215 216 217 218 219 220 221\n",
      " 222 223 224 225 226 227 228 229 230 231 233 234 235 236 237 238 240 241\n",
      " 243 245 246 248 249 250 251 252 253 256 257 258 259 260 262 263 264 265\n",
      " 266 267 268 269 270 271 272 274 275 276 277 278 279 280 281 282 283 284\n",
      " 285 286 287 288 289 290 291 294 295 296 298 299 300 301 302 303 305 306\n",
      " 307 308 309 310 312 313 314 315 316 317 318 319 320 322 323 325 327 329\n",
      " 330 331 332 333 336 339 340 341 343 345 346 347 348 350 351 352 355 358\n",
      " 359 360 361 363 365 366 367 368 370 371 372 373 374 376 377 378 379 381\n",
      " 382 383 384 386 387 388 389 390 391 392 393 394 395 397 399 400 401 402\n",
      " 403 404 405 406 407 408 409 411 412 413 415 417 418 419 420 423 424 425\n",
      " 426 427 428 429 430 431 432 433 434 436 437 439 440 441 442 443 445 446\n",
      " 448 449 450 451 453 455 456 457 459 460 462 464 465 466 468 469 470 471\n",
      " 472 473 476 477 478 479 480 481 482 483 484 485 486 487 488 491 492 493\n",
      " 494 495 496 497 498 499 500 501 502 505 506 507 508 509 511 512 513 514\n",
      " 515 516 518 519 520 521 522 524 525 528 529 530 531 532 533 537 538 540\n",
      " 541 543 545 546 547 548 549 550 551 552 553 554 555 556 557 559 561 562\n",
      " 564 565 566 567 568 570 571 572 573 574 575 576 579 580 581 582 585 586\n",
      " 587 588 589 590 591 592 593 594 595 597 598 600 601 602 603 604 605 606\n",
      " 607 608 610 611 613] Validation: [  3   5   7  12  23  28  29  30  31  36  39  58  66  82  83  85  89  96\n",
      "  98 101 104 109 110 112 123 133 144 155 157 159 161 165 172 177 183 189\n",
      " 194 198 200 208 209 213 232 239 242 244 247 254 255 261 273 292 293 297\n",
      " 304 311 321 324 326 328 334 335 337 338 342 344 349 353 354 356 357 362\n",
      " 364 369 375 380 385 396 398 410 414 416 421 422 435 438 444 447 452 454\n",
      " 458 461 463 467 474 475 489 490 503 504 510 517 523 526 527 534 535 536\n",
      " 539 542 544 558 560 563 569 577 578 583 584 596 599 609 612]\n",
      "Train: [  0   1   3   4   5   6   7   8  10  11  12  15  16  19  20  22  23  24\n",
      "  25  26  27  28  29  30  31  32  33  34  35  36  37  38  39  40  41  42\n",
      "  43  44  45  46  47  48  49  50  51  52  55  56  57  58  59  60  62  63\n",
      "  64  66  70  71  73  74  75  76  77  78  79  81  82  83  84  85  86  87\n",
      "  89  90  91  92  94  95  96  97  98 100 101 102 104 105 106 107 108 109\n",
      " 110 111 112 113 116 117 118 119 120 122 123 124 125 126 128 129 130 131\n",
      " 132 133 134 135 136 137 138 139 140 142 143 144 146 150 151 152 154 155\n",
      " 156 157 158 159 160 161 163 165 166 167 169 170 171 172 174 175 176 177\n",
      " 178 179 181 182 183 184 185 186 187 188 189 190 191 193 194 195 197 198\n",
      " 199 200 201 202 204 206 208 209 210 213 214 215 217 218 219 220 221 222\n",
      " 223 224 225 226 227 231 232 233 234 236 239 241 242 243 244 245 246 247\n",
      " 249 250 251 252 253 254 255 256 257 259 260 261 262 264 267 269 270 272\n",
      " 273 275 276 277 278 279 281 282 283 284 285 286 287 289 292 293 294 296\n",
      " 297 298 300 302 304 305 308 310 311 312 314 315 316 318 319 321 322 323\n",
      " 324 325 326 327 328 330 331 332 333 334 335 336 337 338 339 340 341 342\n",
      " 343 344 345 346 347 348 349 350 352 353 354 355 356 357 360 362 363 364\n",
      " 366 367 368 369 370 371 372 373 374 375 376 377 378 379 380 381 382 385\n",
      " 386 387 388 391 392 393 394 395 396 397 398 399 400 402 403 404 405 406\n",
      " 409 410 412 413 414 416 417 418 419 420 421 422 423 424 425 426 427 428\n",
      " 429 431 432 434 435 437 438 441 443 444 445 447 448 450 451 452 453 454\n",
      " 455 456 457 458 459 460 461 462 463 465 466 467 468 469 470 473 474 475\n",
      " 476 478 479 480 481 482 484 485 487 488 489 490 491 492 494 495 497 498\n",
      " 499 500 503 504 505 507 508 510 511 512 514 515 517 518 519 521 522 523\n",
      " 524 525 526 527 528 530 531 532 533 534 535 536 537 538 539 540 541 542\n",
      " 543 544 548 549 550 551 552 554 555 556 557 558 559 560 561 562 563 564\n",
      " 567 568 569 570 571 572 574 575 576 577 578 579 581 582 583 584 585 586\n",
      " 587 588 589 590 591 592 593 594 595 596 598 599 600 603 605 606 607 608\n",
      " 609 610 611 612 613] Validation: [  2   9  13  14  17  18  21  53  54  61  65  67  68  69  72  80  88  93\n",
      "  99 103 114 115 121 127 141 145 147 148 149 153 162 164 168 173 180 192\n",
      " 196 203 205 207 211 212 216 228 229 230 235 237 238 240 248 258 263 265\n",
      " 266 268 271 274 280 288 290 291 295 299 301 303 306 307 309 313 317 320\n",
      " 329 351 358 359 361 365 383 384 389 390 401 407 408 411 415 430 433 436\n",
      " 439 440 442 446 449 464 471 472 477 483 486 493 496 501 502 506 509 513\n",
      " 516 520 529 545 546 547 553 565 566 573 580 597 601 602 604]\n",
      "Train: [  0   1   2   3   5   7   9  10  11  12  13  14  16  17  18  19  21  23\n",
      "  24  27  28  29  30  31  32  35  36  37  39  40  41  42  43  44  45  48\n",
      "  49  50  51  53  54  55  56  58  59  61  63  64  65  66  67  68  69  70\n",
      "  71  72  73  74  75  76  77  79  80  81  82  83  84  85  86  88  89  90\n",
      "  92  93  94  95  96  97  98  99 101 102 103 104 107 108 109 110 111 112\n",
      " 114 115 116 117 118 119 121 122 123 124 127 130 131 133 134 135 136 137\n",
      " 138 141 142 143 144 145 147 148 149 150 151 153 154 155 156 157 158 159\n",
      " 161 162 163 164 165 167 168 170 172 173 174 175 177 178 179 180 181 182\n",
      " 183 185 186 187 188 189 190 191 192 194 195 196 197 198 199 200 201 202\n",
      " 203 205 206 207 208 209 211 212 213 214 215 216 217 218 219 222 223 224\n",
      " 227 228 229 230 231 232 233 234 235 237 238 239 240 241 242 244 247 248\n",
      " 249 251 253 254 255 256 257 258 259 260 261 263 264 265 266 267 268 270\n",
      " 271 273 274 275 278 279 280 281 282 283 285 286 287 288 290 291 292 293\n",
      " 295 297 298 299 300 301 302 303 304 306 307 308 309 310 311 312 313 314\n",
      " 315 317 318 319 320 321 322 323 324 325 326 328 329 330 331 332 334 335\n",
      " 336 337 338 339 340 341 342 343 344 345 346 347 348 349 351 352 353 354\n",
      " 355 356 357 358 359 361 362 364 365 367 368 369 370 371 374 375 378 379\n",
      " 380 383 384 385 387 389 390 392 393 394 396 398 400 401 402 403 405 407\n",
      " 408 409 410 411 412 413 414 415 416 417 418 420 421 422 423 426 429 430\n",
      " 433 434 435 436 438 439 440 442 443 444 445 446 447 448 449 450 452 454\n",
      " 455 456 457 458 459 460 461 462 463 464 467 468 470 471 472 473 474 475\n",
      " 476 477 479 480 481 483 484 485 486 487 489 490 492 493 494 496 497 498\n",
      " 499 500 501 502 503 504 505 506 508 509 510 512 513 515 516 517 518 520\n",
      " 521 523 524 526 527 528 529 530 531 532 533 534 535 536 537 538 539 540\n",
      " 541 542 543 544 545 546 547 549 550 552 553 554 556 557 558 559 560 561\n",
      " 562 563 565 566 568 569 570 571 573 574 576 577 578 579 580 581 583 584\n",
      " 586 587 588 589 590 591 592 594 595 596 597 599 600 601 602 603 604 605\n",
      " 607 608 609 610 612] Validation: [  4   6   8  15  20  22  25  26  33  34  38  46  47  52  57  60  62  78\n",
      "  87  91 100 105 106 113 120 125 126 128 129 132 139 140 146 152 160 166\n",
      " 169 171 176 184 193 204 210 220 221 225 226 236 243 245 246 250 252 262\n",
      " 269 272 276 277 284 289 294 296 305 316 327 333 350 360 363 366 372 373\n",
      " 376 377 381 382 386 388 391 395 397 399 404 406 419 424 425 427 428 431\n",
      " 432 437 441 451 453 465 466 469 478 482 488 491 495 507 511 514 519 522\n",
      " 525 548 551 555 564 567 572 575 582 585 593 598 606 611 613]\n",
      "Train: [  0   2   3   4   5   6   7   8   9  10  12  13  14  15  17  18  19  20\n",
      "  21  22  23  24  25  26  28  29  30  31  33  34  36  37  38  39  43  44\n",
      "  45  46  47  50  52  53  54  55  57  58  59  60  61  62  65  66  67  68\n",
      "  69  70  71  72  73  75  78  79  80  82  83  85  87  88  89  90  91  93\n",
      "  94  95  96  97  98  99 100 101 103 104 105 106 107 108 109 110 112 113\n",
      " 114 115 117 118 119 120 121 123 124 125 126 127 128 129 130 131 132 133\n",
      " 134 135 138 139 140 141 144 145 146 147 148 149 150 151 152 153 155 157\n",
      " 158 159 160 161 162 163 164 165 166 167 168 169 170 171 172 173 174 175\n",
      " 176 177 179 180 181 182 183 184 185 186 189 190 191 192 193 194 195 196\n",
      " 198 199 200 201 202 203 204 205 207 208 209 210 211 212 213 215 216 218\n",
      " 220 221 222 224 225 226 227 228 229 230 232 235 236 237 238 239 240 241\n",
      " 242 243 244 245 246 247 248 250 251 252 253 254 255 256 257 258 259 261\n",
      " 262 263 264 265 266 268 269 270 271 272 273 274 275 276 277 279 280 282\n",
      " 284 285 287 288 289 290 291 292 293 294 295 296 297 298 299 301 302 303\n",
      " 304 305 306 307 309 310 311 313 316 317 318 320 321 322 324 326 327 328\n",
      " 329 330 331 333 334 335 337 338 339 342 344 345 348 349 350 351 352 353\n",
      " 354 355 356 357 358 359 360 361 362 363 364 365 366 369 370 372 373 374\n",
      " 375 376 377 380 381 382 383 384 385 386 387 388 389 390 391 392 393 395\n",
      " 396 397 398 399 400 401 404 406 407 408 410 411 414 415 416 417 418 419\n",
      " 420 421 422 424 425 426 427 428 429 430 431 432 433 435 436 437 438 439\n",
      " 440 441 442 443 444 446 447 449 451 452 453 454 457 458 460 461 462 463\n",
      " 464 465 466 467 469 470 471 472 473 474 475 477 478 482 483 484 486 487\n",
      " 488 489 490 491 492 493 494 495 496 497 501 502 503 504 505 506 507 509\n",
      " 510 511 513 514 515 516 517 518 519 520 522 523 525 526 527 529 533 534\n",
      " 535 536 539 540 541 542 543 544 545 546 547 548 549 551 553 554 555 557\n",
      " 558 560 563 564 565 566 567 569 570 572 573 574 575 576 577 578 579 580\n",
      " 582 583 584 585 586 587 588 593 595 596 597 598 599 601 602 604 606 607\n",
      " 609 610 611 612 613] Validation: [  1  11  16  27  32  35  40  41  42  48  49  51  56  63  64  74  76  77\n",
      "  81  84  86  92 102 111 116 122 136 137 142 143 154 156 178 187 188 197\n",
      " 206 214 217 219 223 231 233 234 249 260 267 278 281 283 286 300 308 312\n",
      " 314 315 319 323 325 332 336 340 341 343 346 347 367 368 371 378 379 394\n",
      " 402 403 405 409 412 413 423 434 445 448 450 455 456 459 468 476 479 480\n",
      " 481 485 498 499 500 508 512 521 524 528 530 531 532 537 538 550 552 556\n",
      " 559 561 562 568 571 581 589 590 591 592 594 600 603 605 608]\n",
      "Train: [  1   2   3   4   5   6   7   8   9  11  12  13  14  15  16  17  18  20\n",
      "  21  22  23  25  26  27  28  29  30  31  32  33  34  35  36  38  39  40\n",
      "  41  42  46  47  48  49  51  52  53  54  56  57  58  60  61  62  63  64\n",
      "  65  66  67  68  69  72  74  76  77  78  80  81  82  83  84  85  86  87\n",
      "  88  89  91  92  93  96  98  99 100 101 102 103 104 105 106 109 110 111\n",
      " 112 113 114 115 116 120 121 122 123 125 126 127 128 129 132 133 136 137\n",
      " 139 140 141 142 143 144 145 146 147 148 149 152 153 154 155 156 157 159\n",
      " 160 161 162 164 165 166 168 169 171 172 173 176 177 178 180 183 184 187\n",
      " 188 189 192 193 194 196 197 198 200 203 204 205 206 207 208 209 210 211\n",
      " 212 213 214 216 217 219 220 221 223 225 226 228 229 230 231 232 233 234\n",
      " 235 236 237 238 239 240 242 243 244 245 246 247 248 249 250 252 254 255\n",
      " 258 260 261 262 263 265 266 267 268 269 271 272 273 274 276 277 278 280\n",
      " 281 283 284 286 288 289 290 291 292 293 294 295 296 297 299 300 301 303\n",
      " 304 305 306 307 308 309 311 312 313 314 315 316 317 319 320 321 323 324\n",
      " 325 326 327 328 329 332 333 334 335 336 337 338 340 341 342 343 344 346\n",
      " 347 349 350 351 353 354 356 357 358 359 360 361 362 363 364 365 366 367\n",
      " 368 369 371 372 373 375 376 377 378 379 380 381 382 383 384 385 386 388\n",
      " 389 390 391 394 395 396 397 398 399 401 402 403 404 405 406 407 408 409\n",
      " 410 411 412 413 414 415 416 419 421 422 423 424 425 427 428 430 431 432\n",
      " 433 434 435 436 437 438 439 440 441 442 444 445 446 447 448 449 450 451\n",
      " 452 453 454 455 456 458 459 461 463 464 465 466 467 468 469 471 472 474\n",
      " 475 476 477 478 479 480 481 482 483 485 486 488 489 490 491 493 495 496\n",
      " 498 499 500 501 502 503 504 506 507 508 509 510 511 512 513 514 516 517\n",
      " 519 520 521 522 523 524 525 526 527 528 529 530 531 532 534 535 536 537\n",
      " 538 539 542 544 545 546 547 548 550 551 552 553 555 556 558 559 560 561\n",
      " 562 563 564 565 566 567 568 569 571 572 573 575 577 578 580 581 582 583\n",
      " 584 585 589 590 591 592 593 594 596 597 598 599 600 601 602 603 604 605\n",
      " 606 608 609 611 612 613] Validation: [  0  10  19  24  37  43  44  45  50  55  59  70  71  73  75  79  90  94\n",
      "  95  97 107 108 117 118 119 124 130 131 134 135 138 150 151 158 163 167\n",
      " 170 174 175 179 181 182 185 186 190 191 195 199 201 202 215 218 222 224\n",
      " 227 241 251 253 256 257 259 264 270 275 279 282 285 287 298 302 310 318\n",
      " 322 330 331 339 345 348 352 355 370 374 387 392 393 400 417 418 420 426\n",
      " 429 443 457 460 462 470 473 484 487 492 494 497 505 515 518 533 540 541\n",
      " 543 549 554 557 570 574 576 579 586 587 588 595 607 610]\n",
      "[0.8130081300813008, 0.8211382113821138, 0.7804878048780488, 0.7804878048780488, 0.7950819672131147]\n"
     ]
    }
   ],
   "source": [
    "\n",
    "accuracy =[]\n",
    "\n",
    "kf = StratifiedKFold(n_splits=5 , random_state=1 , shuffle=True )\n",
    "kf.get_n_splits(X,y)\n",
    "\n",
    "for train_index , test_index in kf.split(X,y):\n",
    "    print('Train:', train_index , 'Validation:', test_index)\n",
    "    Xtr,Xvl = X.iloc[train_index], X.iloc[test_index]\n",
    "    ytr , yvl = y.iloc[train_index], y.iloc[test_index]\n",
    "    \n",
    "    Lr.fit(Xtr ,ytr)\n",
    "    y_pred_test =Lr.predict(Xvl)# y-pred\n",
    "    scores = accuracy_score( yvl , y_pred_test)\n",
    "    accuracy.append(scores)\n",
    "    \n",
    "    \n",
    "print(accuracy)"
   ]
  },
  {
   "cell_type": "code",
   "execution_count": 137,
   "id": "33c52e13",
   "metadata": {},
   "outputs": [
    {
     "data": {
      "text/plain": [
       "0.7980407836865254"
      ]
     },
     "execution_count": 137,
     "metadata": {},
     "output_type": "execute_result"
    }
   ],
   "source": [
    "np.array(accuracy).mean()"
   ]
  },
  {
   "cell_type": "code",
   "execution_count": 138,
   "id": "c00a3819",
   "metadata": {},
   "outputs": [],
   "source": [
    "prediction_test = Lr.predict(test)"
   ]
  },
  {
   "cell_type": "code",
   "execution_count": 95,
   "id": "c43c1b77",
   "metadata": {},
   "outputs": [],
   "source": [
    "## replacing 0 and 1 with Y and N"
   ]
  },
  {
   "cell_type": "code",
   "execution_count": 96,
   "id": "1b7d1e5a",
   "metadata": {},
   "outputs": [],
   "source": [
    "submission['Loan_Status'] = pred_test # fill loan_statsus with prediction\n",
    "submission['Loan_ID']=test_original['Loan_ID']\n",
    "submission['Loan_Status'].replace(0,'N',inplace=True)\n",
    "submission['Loan_Status'].replace(1,'Y',inplace=True)\n",
    "\n",
    "#converting file to .csv format\n",
    "\n",
    "pd.DataFrame(submission , columns=['Loan_ID','Loan_Status']).to_csv('Log2.csv',index=False)\n"
   ]
  },
  {
   "cell_type": "markdown",
   "id": "7bb102a6",
   "metadata": {},
   "source": [
    "## Random Forest Classifier"
   ]
  },
  {
   "cell_type": "markdown",
   "id": "0b060380",
   "metadata": {},
   "source": [
    "''''\n",
    " Try to improve accuracy by tuning hyperparameter for model.\\\n",
    " though hyperparameter tuning does not guarantee increased accuracy,but it surely improve stability of model '''"
   ]
  },
  {
   "cell_type": "code",
   "execution_count": 97,
   "id": "3dd87021",
   "metadata": {},
   "outputs": [],
   "source": [
    "from sklearn.model_selection import GridSearchCV\n",
    "from sklearn.ensemble import RandomForestClassifier"
   ]
  },
  {
   "cell_type": "code",
   "execution_count": 98,
   "id": "b7c16c09",
   "metadata": {},
   "outputs": [],
   "source": [
    "Rf = RandomForestClassifier()"
   ]
  },
  {
   "cell_type": "code",
   "execution_count": 99,
   "id": "f92ab58c",
   "metadata": {},
   "outputs": [],
   "source": [
    "param = {  \n",
    "    'n_estimators' :[5,10,50,100],\n",
    "    'criterion': ['gini','entropy'],\n",
    "    'max_depth': range(10),    \n",
    "}"
   ]
  },
  {
   "cell_type": "code",
   "execution_count": 100,
   "id": "787da237",
   "metadata": {},
   "outputs": [],
   "source": [
    "grid_search = GridSearchCV(estimator=Rf , param_grid=param , cv=10)"
   ]
  },
  {
   "cell_type": "code",
   "execution_count": 101,
   "id": "c7073739",
   "metadata": {},
   "outputs": [],
   "source": [
    "x_train,x_cv,y_train,y_cv = train_test_split(X,y,test_size=.3, random_state=1)"
   ]
  },
  {
   "cell_type": "code",
   "execution_count": 102,
   "id": "e14d4944",
   "metadata": {},
   "outputs": [
    {
     "data": {
      "text/plain": [
       "GridSearchCV(cv=10, estimator=RandomForestClassifier(),\n",
       "             param_grid={'criterion': ['gini', 'entropy'],\n",
       "                         'max_depth': range(0, 10),\n",
       "                         'n_estimators': [5, 10, 50, 100]})"
      ]
     },
     "execution_count": 102,
     "metadata": {},
     "output_type": "execute_result"
    }
   ],
   "source": [
    "grid_search.fit(x_train,y_train)"
   ]
  },
  {
   "cell_type": "code",
   "execution_count": 103,
   "id": "8637858c",
   "metadata": {},
   "outputs": [
    {
     "data": {
      "text/plain": [
       "{'criterion': 'entropy', 'max_depth': 4, 'n_estimators': 100}"
      ]
     },
     "execution_count": 103,
     "metadata": {},
     "output_type": "execute_result"
    }
   ],
   "source": [
    "grid_search.best_params_"
   ]
  },
  {
   "cell_type": "code",
   "execution_count": 104,
   "id": "80ba78b7",
   "metadata": {},
   "outputs": [
    {
     "data": {
      "text/plain": [
       "RandomForestClassifier(criterion='entropy', max_depth=4)"
      ]
     },
     "execution_count": 104,
     "metadata": {},
     "output_type": "execute_result"
    }
   ],
   "source": [
    "grid_search.best_estimator_"
   ]
  },
  {
   "cell_type": "code",
   "execution_count": 105,
   "id": "72b05749",
   "metadata": {},
   "outputs": [],
   "source": [
    "Rf_new = RandomForestClassifier(criterion='entropy' , max_depth = 4 ,\n",
    "                                min_samples_leaf=1,n_estimators=100,\n",
    "                               \n",
    "                               )"
   ]
  },
  {
   "cell_type": "code",
   "execution_count": 106,
   "id": "2ea48b75",
   "metadata": {},
   "outputs": [
    {
     "data": {
      "text/plain": [
       "RandomForestClassifier(criterion='entropy', max_depth=4)"
      ]
     },
     "execution_count": 106,
     "metadata": {},
     "output_type": "execute_result"
    }
   ],
   "source": [
    "Rf_new.fit(x_train,y_train)"
   ]
  },
  {
   "cell_type": "code",
   "execution_count": 107,
   "id": "65fed4f9",
   "metadata": {},
   "outputs": [
    {
     "data": {
      "text/plain": [
       "0.772972972972973"
      ]
     },
     "execution_count": 107,
     "metadata": {},
     "output_type": "execute_result"
    }
   ],
   "source": [
    "Rf_new.score(x_cv,y_cv)"
   ]
  },
  {
   "cell_type": "code",
   "execution_count": 108,
   "id": "c9e58782",
   "metadata": {},
   "outputs": [],
   "source": [
    "predict_test = Rf_new.predict(x_cv)"
   ]
  },
  {
   "cell_type": "code",
   "execution_count": 109,
   "id": "08087f11",
   "metadata": {},
   "outputs": [],
   "source": [
    "score= accuracy_score(y_cv , predict_test)"
   ]
  },
  {
   "cell_type": "code",
   "execution_count": 110,
   "id": "5d835def",
   "metadata": {},
   "outputs": [
    {
     "data": {
      "text/plain": [
       "0.772972972972973"
      ]
     },
     "execution_count": 110,
     "metadata": {},
     "output_type": "execute_result"
    }
   ],
   "source": [
    "score  # same as above"
   ]
  },
  {
   "cell_type": "code",
   "execution_count": 111,
   "id": "44f1aa99",
   "metadata": {},
   "outputs": [],
   "source": [
    "predict_test = Rf_new.predict(test)"
   ]
  },
  {
   "cell_type": "code",
   "execution_count": 112,
   "id": "9f7aafc1",
   "metadata": {},
   "outputs": [],
   "source": [
    "submission['Loan_Status'] = predict_test # fill loan_status with prediction\n",
    "submission['Loan_ID']=test_original['Loan_ID']\n",
    "submission['Loan_Status'].replace(0,'N',inplace=True)\n",
    "submission['Loan_Status'].replace(1,'Y',inplace=True)\n",
    "\n",
    "#converting file to .csv format\n",
    "\n",
    "pd.DataFrame(submission , columns=['Loan_ID','Loan_Status']).to_csv('RandomForest.csv',index=False)"
   ]
  },
  {
   "cell_type": "code",
   "execution_count": 113,
   "id": "d6e974e0",
   "metadata": {},
   "outputs": [
    {
     "data": {
      "text/plain": [
       "<AxesSubplot:>"
      ]
     },
     "execution_count": 113,
     "metadata": {},
     "output_type": "execute_result"
    },
    {
     "data": {
      "image/png": "[encoded data removed]",
      "text/plain": [
       "<Figure size 864x576 with 1 Axes>"
      ]
     },
     "metadata": {
      "needs_background": "light"
     },
     "output_type": "display_data"
    }
   ],
   "source": [
    "# finding which features are most important for this problem\n",
    "\n",
    "importances = pd.Series(Rf_new.feature_importances_ , index=X.columns)\n",
    "importances.plot(kind = 'barh', figsize=(12,8))"
   ]
  },
  {
   "cell_type": "markdown",
   "id": "7ab33740",
   "metadata": {},
   "source": [
    "So, we can see that credit_history is most important features followed by Balance Income , Total income ,EMI"
   ]
  },
  {
   "cell_type": "markdown",
   "id": "a40432e1",
   "metadata": {},
   "source": [
    "### XGBOOST CLASSIFIER\n",
    "\n",
    "Xboost works only with numerical variable and we have already replaced the categorical variable with numerical variable."
   ]
  },
  {
   "cell_type": "code",
   "execution_count": 114,
   "id": "93212033",
   "metadata": {},
   "outputs": [],
   "source": [
    "from xgboost import XGBClassifier"
   ]
  },
  {
   "cell_type": "code",
   "execution_count": 115,
   "id": "79f579da",
   "metadata": {},
   "outputs": [],
   "source": [
    "# try grid search to optimise hyperparameter and improve accuracy.\n",
    "# try ensemble technique(combination of different models)"
   ]
  },
  {
   "cell_type": "code",
   "execution_count": 116,
   "id": "64668c4b",
   "metadata": {},
   "outputs": [],
   "source": [
    "xg_model = XGBClassifier()"
   ]
  },
  {
   "cell_type": "code",
   "execution_count": 117,
   "id": "b39c0670",
   "metadata": {},
   "outputs": [
    {
     "data": {
      "text/plain": [
       "XGBClassifier(base_score=0.5, booster='gbtree', callbacks=None,\n",
       "              colsample_bylevel=1, colsample_bynode=1, colsample_bytree=1,\n",
       "              early_stopping_rounds=None, enable_categorical=False,\n",
       "              eval_metric=None, gamma=0, gpu_id=-1, grow_policy='depthwise',\n",
       "              importance_type=None, interaction_constraints='',\n",
       "              learning_rate=0.300000012, max_bin=256, max_cat_to_onehot=4,\n",
       "              max_delta_step=0, max_depth=6, max_leaves=0, min_child_weight=1,\n",
       "              missing=nan, monotone_constraints='()', n_estimators=100,\n",
       "              n_jobs=0, num_parallel_tree=1, predictor='auto', random_state=0,\n",
       "              reg_alpha=0, reg_lambda=1, ...)"
      ]
     },
     "execution_count": 117,
     "metadata": {},
     "output_type": "execute_result"
    }
   ],
   "source": [
    "xg_model.fit(x_train ,y_train)"
   ]
  },
  {
   "cell_type": "code",
   "execution_count": 118,
   "id": "6481c7c1",
   "metadata": {},
   "outputs": [],
   "source": [
    "pred_y = xg_model.predict(x_cv)"
   ]
  },
  {
   "cell_type": "code",
   "execution_count": 119,
   "id": "11f0ad3d",
   "metadata": {},
   "outputs": [],
   "source": [
    "score = accuracy_score(y_cv ,pred_y)"
   ]
  },
  {
   "cell_type": "code",
   "execution_count": 120,
   "id": "0171b5bd",
   "metadata": {},
   "outputs": [
    {
     "data": {
      "text/plain": [
       "0.7567567567567568"
      ]
     },
     "execution_count": 120,
     "metadata": {},
     "output_type": "execute_result"
    }
   ],
   "source": [
    "score"
   ]
  },
  {
   "cell_type": "code",
   "execution_count": 121,
   "id": "39c88ccd",
   "metadata": {},
   "outputs": [],
   "source": [
    "pred_test = xg_model.predict(test)"
   ]
  },
  {
   "cell_type": "code",
   "execution_count": 122,
   "id": "7bd250a1",
   "metadata": {},
   "outputs": [],
   "source": [
    "## hyperparameter tuning for xgbooost\n",
    "\n",
    "param = {\n",
    "    \"max_depth\": [3, 4, 5, 7],\n",
    "    \"learning_rate\": [0.1, 0.01, 0.05],\n",
    "    \"gamma\": [0, 0.25, 1],\n",
    "    \"reg_lambda\": [0, 1, 10],\n",
    "    \"scale_pos_weight\": [1, 3, 5],\n",
    "    \"subsample\": [0.8],\n",
    "    \"colsample_bytree\": [0.5],\n",
    "}"
   ]
  },
  {
   "cell_type": "code",
   "execution_count": 123,
   "id": "dd52d84b",
   "metadata": {},
   "outputs": [],
   "source": [
    "grid_cv = GridSearchCV(estimator=xg_model , param_grid=param , n_jobs=-1 , scoring='roc_auc')\n"
   ]
  },
  {
   "cell_type": "code",
   "execution_count": 124,
   "id": "0939a66f",
   "metadata": {},
   "outputs": [
    {
     "data": {
      "text/plain": [
       "GridSearchCV(estimator=XGBClassifier(base_score=0.5, booster='gbtree',\n",
       "                                     callbacks=None, colsample_bylevel=1,\n",
       "                                     colsample_bynode=1, colsample_bytree=1,\n",
       "                                     early_stopping_rounds=None,\n",
       "                                     enable_categorical=False, eval_metric=None,\n",
       "                                     gamma=0, gpu_id=-1,\n",
       "                                     grow_policy='depthwise',\n",
       "                                     importance_type=None,\n",
       "                                     interaction_constraints='',\n",
       "                                     learning_rate=0.300000012, max_bin=256,\n",
       "                                     max_cat_to_...\n",
       "                                     min_child_weight=1, missing=nan,\n",
       "                                     monotone_constraints='()',\n",
       "                                     n_estimators=100, n_jobs=0,\n",
       "                                     num_parallel_tree=1, predictor='auto',\n",
       "                                     random_state=0, reg_alpha=0, reg_lambda=1, ...),\n",
       "             n_jobs=-1,\n",
       "             param_grid={'colsample_bytree': [0.5], 'gamma': [0, 0.25, 1],\n",
       "                         'learning_rate': [0.1, 0.01, 0.05],\n",
       "                         'max_depth': [3, 4, 5, 7], 'reg_lambda': [0, 1, 10],\n",
       "                         'scale_pos_weight': [1, 3, 5], 'subsample': [0.8]},\n",
       "             scoring='roc_auc')"
      ]
     },
     "execution_count": 124,
     "metadata": {},
     "output_type": "execute_result"
    }
   ],
   "source": [
    "grid_cv.fit(x_train ,y_train)"
   ]
  },
  {
   "cell_type": "code",
   "execution_count": 125,
   "id": "33119ce4",
   "metadata": {},
   "outputs": [
    {
     "data": {
      "text/plain": [
       "{'colsample_bytree': 0.5,\n",
       " 'gamma': 1,\n",
       " 'learning_rate': 0.01,\n",
       " 'max_depth': 3,\n",
       " 'reg_lambda': 1,\n",
       " 'scale_pos_weight': 5,\n",
       " 'subsample': 0.8}"
      ]
     },
     "execution_count": 125,
     "metadata": {},
     "output_type": "execute_result"
    }
   ],
   "source": [
    "grid_cv.best_params_"
   ]
  },
  {
   "cell_type": "code",
   "execution_count": 126,
   "id": "ab03cf05",
   "metadata": {},
   "outputs": [],
   "source": [
    "final_xg = XGBClassifier(**grid_cv.best_params_  )"
   ]
  },
  {
   "cell_type": "code",
   "execution_count": 127,
   "id": "0775910a",
   "metadata": {},
   "outputs": [
    {
     "data": {
      "text/plain": [
       "XGBClassifier(base_score=0.5, booster='gbtree', callbacks=None,\n",
       "              colsample_bylevel=1, colsample_bynode=1, colsample_bytree=0.5,\n",
       "              early_stopping_rounds=None, enable_categorical=False,\n",
       "              eval_metric=None, gamma=1, gpu_id=-1, grow_policy='depthwise',\n",
       "              importance_type=None, interaction_constraints='',\n",
       "              learning_rate=0.01, max_bin=256, max_cat_to_onehot=4,\n",
       "              max_delta_step=0, max_depth=3, max_leaves=0, min_child_weight=1,\n",
       "              missing=nan, monotone_constraints='()', n_estimators=100,\n",
       "              n_jobs=0, num_parallel_tree=1, predictor='auto', random_state=0,\n",
       "              reg_alpha=0, reg_lambda=1, ...)"
      ]
     },
     "execution_count": 127,
     "metadata": {},
     "output_type": "execute_result"
    }
   ],
   "source": [
    "final_xg.fit(x_train,y_train)"
   ]
  },
  {
   "cell_type": "code",
   "execution_count": 128,
   "id": "34acd521",
   "metadata": {},
   "outputs": [],
   "source": [
    "pred_test = final_xg.predict(x_cv)"
   ]
  },
  {
   "cell_type": "code",
   "execution_count": 129,
   "id": "d21aba4e",
   "metadata": {},
   "outputs": [
    {
     "data": {
      "text/plain": [
       "0.7135135135135136"
      ]
     },
     "execution_count": 129,
     "metadata": {},
     "output_type": "execute_result"
    }
   ],
   "source": [
    "score= accuracy_score(y_cv , pred_test)\n",
    "score"
   ]
  },
  {
   "cell_type": "code",
   "execution_count": 130,
   "id": "f548e509",
   "metadata": {},
   "outputs": [],
   "source": [
    "pred_test = final_xg.predict(test)"
   ]
  },
  {
   "cell_type": "code",
   "execution_count": 131,
   "id": "0431909c",
   "metadata": {},
   "outputs": [],
   "source": [
    "submission['Loan_Status'] = predict_test # fill loan_status with prediction\n",
    "submission['Loan_ID']=test_original['Loan_ID']\n",
    "submission['Loan_Status'].replace(0,'N',inplace=True)\n",
    "submission['Loan_Status'].replace(1,'Y',inplace=True)\n",
    "\n",
    "#converting file to .csv format\n",
    "\n",
    "pd.DataFrame(submission , columns=['Loan_ID','Loan_Status']).to_csv('XGBoost_loanpred.csv',index=False)"
   ]
  },
  {
   "cell_type": "markdown",
   "id": "9b250e3e",
   "metadata": {},
   "source": [
    " After trying different algorithms **Logistic regression (\n",
    " 79%)** achieved best accuracy"
   ]
  },
  {
   "cell_type": "markdown",
   "id": "7922078c",
   "metadata": {},
   "source": [
    "## Pickling the model for deployement"
   ]
  },
  {
   "cell_type": "code",
   "execution_count": 140,
   "id": "15c3957c",
   "metadata": {},
   "outputs": [],
   "source": [
    "import pickle"
   ]
  },
  {
   "cell_type": "code",
   "execution_count": 141,
   "id": "14a7933c",
   "metadata": {},
   "outputs": [],
   "source": [
    "pickle.dump(Lr,open('logistic_M1.pkl','wb'))"
   ]
  },
  {
   "cell_type": "code",
   "execution_count": 142,
   "id": "e625fa72",
   "metadata": {},
   "outputs": [],
   "source": [
    "model1 = pickle.load(open('logistic_M1.pkl','rb'))"
   ]
  },
  {
   "cell_type": "code",
   "execution_count": 143,
   "id": "f1301b12",
   "metadata": {},
   "outputs": [
    {
     "data": {
      "text/plain": [
       "array([1, 1, 1, 1, 1, 1, 1, 0, 1, 1, 1, 1, 1, 0, 1, 1, 1, 1, 1, 1, 1, 1,\n",
       "       1, 1, 1, 0, 1, 1, 1, 1, 1, 1, 1, 1, 1, 0, 1, 1, 1, 1, 1, 1, 1, 1,\n",
       "       1, 1, 1, 1, 1, 1, 1, 1, 1, 1, 1, 0, 0, 1, 0, 1, 1, 1, 1, 0, 1, 1,\n",
       "       0, 0, 1, 0, 1, 1, 1, 1, 1, 1, 1, 1, 1, 1, 0, 1, 0, 1, 0, 1, 1, 1,\n",
       "       1, 1, 1, 1, 1, 1, 0, 1, 1, 1, 1, 1, 1, 0, 1, 1, 1, 1, 0, 1, 1, 1,\n",
       "       1, 1, 1, 1, 1, 1, 1, 0, 0, 0, 1, 1, 1, 0, 0, 1, 0, 1, 1, 1, 1, 1,\n",
       "       1, 1, 1, 1, 1, 1, 1, 1, 0, 1, 0, 1, 0, 1, 1, 0, 1, 1, 1, 1, 1, 0,\n",
       "       1, 1, 1, 1, 1, 1, 1, 0, 1, 1, 1, 0, 0, 1, 0, 1, 1, 1, 1, 0, 0, 1,\n",
       "       1, 1, 1, 1, 1, 1, 1, 1, 1, 1, 1, 1, 1, 1, 1, 1, 0, 0, 1, 1, 0, 1,\n",
       "       0, 1, 1, 1, 1, 1, 1, 1, 1, 1, 1, 1, 1, 0, 1, 1, 1, 1, 1, 1, 1, 1,\n",
       "       1, 1, 1, 1, 0, 1, 1, 1, 1, 0, 1, 1, 1, 1, 1, 0, 0, 1, 1, 1, 1, 0,\n",
       "       1, 0, 1, 0, 1, 1, 1, 1, 0, 1, 1, 1, 1, 0, 1, 1, 1, 1, 1, 1, 1, 1,\n",
       "       1, 1, 0, 0, 0, 1, 1, 1, 1, 0, 0, 1, 1, 1, 0, 1, 1, 1, 1, 1, 1, 1,\n",
       "       1, 1, 1, 1, 1, 1, 1, 0, 1, 1, 1, 1, 1, 1, 1, 0, 1, 1, 1, 1, 1, 1,\n",
       "       1, 1, 1, 0, 1, 1, 1, 1, 1, 0, 1, 1, 1, 1, 1, 1, 1, 0, 1, 1, 1, 1,\n",
       "       1, 1, 1, 1, 1, 1, 1, 1, 1, 0, 1, 1, 1, 1, 1, 1, 0, 1, 1, 1, 1, 1,\n",
       "       1, 1, 0, 1, 1, 1, 1, 1, 1, 1, 1, 1, 1, 1, 1], dtype=int64)"
      ]
     },
     "execution_count": 143,
     "metadata": {},
     "output_type": "execute_result"
    }
   ],
   "source": [
    "model1.predict(test)"
   ]
  },
  {
   "cell_type": "code",
   "execution_count": null,
   "id": "fabc9796",
   "metadata": {},
   "outputs": [],
   "source": []
  }
 ],
 "metadata": {
  "kernelspec": {
   "display_name": "Python 3 (ipykernel)",
   "language": "python",
   "name": "python3"
  },
  "language_info": {
   "codemirror_mode": {
    "name": "ipython",
    "version": 3
   },
   "file_extension": ".py",
   "mimetype": "text/x-python",
   "name": "python",
   "nbconvert_exporter": "python",
   "pygments_lexer": "ipython3",
   "version": "3.9.12"
  }
 },
 "nbformat": 4,
 "nbformat_minor": 5
}
